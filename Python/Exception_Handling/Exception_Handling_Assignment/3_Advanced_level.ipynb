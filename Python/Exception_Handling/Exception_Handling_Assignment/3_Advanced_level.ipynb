{
 "cells": [
  {
   "cell_type": "markdown",
   "id": "684dc3d1",
   "metadata": {},
   "source": [
    "Advance Level"
   ]
  },
  {
   "cell_type": "code",
   "execution_count": 1,
   "id": "cf190dc1",
   "metadata": {},
   "outputs": [
    {
     "name": "stdout",
     "output_type": "stream",
     "text": [
      "Caught a custom exception: An error occurred in function_c\n"
     ]
    }
   ],
   "source": [
    "#21.Write a program that demonstrates exception propagation across multiple functions.\n",
    "class CustomError(Exception):\n",
    "    \"\"\"Custom exception class for demonstration.\"\"\"\n",
    "    pass\n",
    "def function_a():\n",
    "    function_b()\n",
    "def function_b():\n",
    "    function_c()        \n",
    "def function_c():\n",
    "    raise CustomError(\"An error occurred in function_c\")\n",
    "try:\n",
    "    function_a()\n",
    "except CustomError as e:\n",
    "    print(f\"Caught a custom exception: {e}\")    \n",
    "#From function_c() → function_b() → function_a() → try block. ----basically a stack"
   ]
  },
  {
   "cell_type": "code",
   "execution_count": 2,
   "id": "56acc724",
   "metadata": {},
   "outputs": [
    {
     "name": "stdout",
     "output_type": "stream",
     "text": [
      "Caught an exception: Invalid input: Division by zero is not allowed.\n",
      "Original exception: division by zero\n"
     ]
    }
   ],
   "source": [
    "#22.Write a program using exception chaining (raise ... from ...).\n",
    "def divide(x, y):\n",
    "    try:\n",
    "        result = x / y\n",
    "    except ZeroDivisionError as e:\n",
    "        raise ValueError(\"Invalid input: Division by zero is not allowed.\") from e\n",
    "    return result\n",
    "try:\n",
    "    a=int(input(\"Enter numerator: \"))\n",
    "    b=int(input(\"Enter denominator: \"))\n",
    "    print(f\"Result: {divide(a, b)}\")\n",
    "except ValueError as e:\n",
    "    print(f\"Caught an exception: {e}\")\n",
    "    print(f\"Original exception: {e.__cause__}\")"
   ]
  },
  {
   "cell_type": "code",
   "execution_count": 7,
   "id": "e9d6b275",
   "metadata": {},
   "outputs": [
    {
     "name": "stdout",
     "output_type": "stream",
     "text": [
      "Database connection error: Failed to connect to database: invalid_db\n"
     ]
    }
   ],
   "source": [
    "#23.Write a program that simulates database connection and raises custom exceptions.\n",
    "class DatabaseConnectionError(Exception):\n",
    "    \"\"\"Custom exception for database connection errors.\"\"\"\n",
    "    pass\n",
    "class QueryExecutionError(Exception):\n",
    "    \"\"\"Custom exception for query execution errors.\"\"\"\n",
    "    pass\n",
    "class Database:\n",
    "    def connect(self, db_name):\n",
    "        if db_name != \"valid_db\":\n",
    "            raise DatabaseConnectionError(f\"Failed to connect to database: {db_name}\")\n",
    "        print(\"Connected to database successfully.\")\n",
    "    def execute_query(self, query):\n",
    "        if \"DROP\" in query.upper():\n",
    "            raise QueryExecutionError(\"Dangerous query detected: DROP statement is not allowed.\")\n",
    "        print(f\"Query executed successfully: {query}\")\n",
    "db = Database()\n",
    "try:\n",
    "    db.connect(\"invalid_db\")\n",
    "    db.execute_query(\"Select * from Users\")\n",
    "except DatabaseConnectionError as e:\n",
    "    print(f\"Database connection error: {e}\")    \n",
    "except QueryExecutionError as e:\n",
    "    print(f\"Query execution error: {e}\")\n"
   ]
  },
  {
   "cell_type": "code",
   "execution_count": 13,
   "id": "603d74aa",
   "metadata": {},
   "outputs": [
    {
     "name": "stdout",
     "output_type": "stream",
     "text": [
      "File content:\n",
      "Flins\n",
      "\n"
     ]
    }
   ],
   "source": [
    "#24.Write a program that reads from a file using with statement and handles errors.\n",
    "def read_file(file_path):\n",
    "    try:\n",
    "        with open(file_path, 'r') as file:\n",
    "            content = file.read()\n",
    "            print(\"File content:\")\n",
    "            print(content)\n",
    "    except FileNotFoundError:\n",
    "        print(f\"Error: The file '{file_path}' was not found.\")\n",
    "    except IOError:\n",
    "        print(f\"Error: An I/O error occurred while reading the file '{file_path}'.\")\n",
    "\n",
    "file_path = \"example.txt\"\n",
    "read_file(file_path)"
   ]
  },
  {
   "cell_type": "code",
   "execution_count": null,
   "id": "36e8ba6a",
   "metadata": {},
   "outputs": [
    {
     "name": "stdout",
     "output_type": "stream",
     "text": [
      "Processed row 1: [10, 20, 30]\n",
      "Skipping bad data at row 2: ['5', 'abc', '15'] - Error: invalid literal for int() with base 10: 'abc'\n",
      "Processed row 3: [40, 50, 60]\n",
      "Skipping bad data at row 4: ['', '70', '80'] - Error: invalid literal for int() with base 10: ''\n",
      "Processed row 5: [90, 100, 110]\n"
     ]
    }
   ],
   "source": [
    "#25.Write a program that skips bad data rows in a CSV file using exception handling.\n",
    "import csv\n",
    "def process_csv(file_path):\n",
    "    with open(file_path, 'r') as csvfile:\n",
    "        reader = csv.reader(csvfile)\n",
    "        for row_number, row in enumerate(reader, start=1):\n",
    "            try:\n",
    "                # Simulate processing each row (e.g., converting to integers)\n",
    "                processed_row = [int(value) for value in row]\n",
    "                print(f\"Processed row {row_number}: {processed_row}\")\n",
    "            except ValueError as e:\n",
    "                print(f\"Skipping bad data at row {row_number}: {row} - Error: {e}\")\n",
    "file_path = \"data.csv\"\n",
    "process_csv(file_path)"
   ]
  },
  {
   "cell_type": "code",
   "execution_count": 21,
   "id": "75420aee",
   "metadata": {},
   "outputs": [
    {
     "name": "stdout",
     "output_type": "stream",
     "text": [
      "❌ Timeout error: The request to https://httpbin.org/delay/5 timed out after 2 seconds.\n"
     ]
    }
   ],
   "source": [
    "#26.Write a program that handles timeout error when connecting to a server (use requests).\n",
    "\n",
    "import requests\n",
    "\n",
    "def fetch_data(url, timeout_seconds):\n",
    "    try:\n",
    "        response = requests.get(url, timeout=timeout_seconds)\n",
    "        print(\"Request successful!\")\n",
    "    except requests.Timeout:\n",
    "        print(f\"❌ Timeout error: The request to {url} timed out after {timeout_seconds} seconds.\")\n",
    "    except requests.ConnectionError:\n",
    "        print(f\"❌ Connection error: Could not connect to {url}.\")\n",
    "    except requests.RequestException as e:\n",
    "        print(f\"❌ An error occurred: {e}\")\n",
    "\n",
    "# Example usage\n",
    "url = \"https://httpbin.org/delay/5\"  # Delays response by 5 seconds\n",
    "fetch_data(url,2)    # Set timeout less than delay to trigger timeout\n",
    "\n"
   ]
  },
  {
   "cell_type": "code",
   "execution_count": 22,
   "id": "f5b476e6",
   "metadata": {},
   "outputs": [
    {
     "name": "stdout",
     "output_type": "stream",
     "text": [
      "Factorial of 5 is 120\n"
     ]
    }
   ],
   "source": [
    "#27.Write a program that handles exceptions in a recursive factorial function.\n",
    "def factorial(n):\n",
    "    if n < 0:\n",
    "        raise ValueError(\"Factorial is not defined for negative numbers.\")\n",
    "    if n == 0 or n == 1:\n",
    "        return 1\n",
    "    return n * factorial(n - 1)\n",
    "try:\n",
    "    num = int(input(\"Enter a non-negative integer: \"))\n",
    "    print(f\"Factorial of {num} is {factorial(num)}\")\n",
    "except ValueError as e:\n",
    "    print(f\"Error: {e}\")\n",
    "    "
   ]
  },
  {
   "cell_type": "code",
   "execution_count": 24,
   "id": "425369f0",
   "metadata": {},
   "outputs": [
    {
     "name": "stdout",
     "output_type": "stream",
     "text": [
      "Withdrew: 30, New Balance: 70\n",
      "Deposited: 30, New Balance: 80\n",
      "Transferred 30 from source to target account.\n",
      "Transaction failed: Insufficient funds for this withdrawal.. Rolled back to original balances.\n"
     ]
    }
   ],
   "source": [
    "#28.Write a program that simulates transaction rollback in a banking system using exceptions.\n",
    "class InsufficientFundsError(Exception):\n",
    "    pass    \n",
    "class BankAccount:  \n",
    "    def __init__(self, balance=0):\n",
    "        self.balance = balance\n",
    "\n",
    "    def deposit(self, amount):\n",
    "        if amount <= 0:\n",
    "            raise ValueError(\"Deposit amount must be positive.\")\n",
    "        self.balance += amount\n",
    "        print(f\"Deposited: {amount}, New Balance: {self.balance}\")\n",
    "\n",
    "    def withdraw(self, amount):\n",
    "        if amount <= 0:\n",
    "            raise ValueError(\"Withdrawal amount must be positive.\")\n",
    "        if amount > self.balance:\n",
    "            raise InsufficientFundsError(\"Insufficient funds for this withdrawal.\")\n",
    "        self.balance -= amount\n",
    "        print(f\"Withdrew: {amount}, New Balance: {self.balance}\")\n",
    "\n",
    "    @staticmethod\n",
    "    def transfer_funds(source_account, target_account, amount):\n",
    "        # Save original balances\n",
    "        source_original = source_account.balance\n",
    "        target_original = target_account.balance\n",
    "\n",
    "        try:\n",
    "            source_account.withdraw(amount)\n",
    "            target_account.deposit(amount)\n",
    "            print(f\"Transferred {amount} from source to target account.\")\n",
    "        except (ValueError, InsufficientFundsError) as e:\n",
    "            # Restore balances (rollback)\n",
    "            source_account.balance = source_original\n",
    "            target_account.balance = target_original\n",
    "            print(f\"Transaction failed: {e}. Rolled back to original balances.\")\n",
    "\n",
    "# Example usage\n",
    "account_a = BankAccount(100)        \n",
    "account_b = BankAccount(50)\n",
    "BankAccount.transfer_funds(account_a, account_b, 30)  # Successful transfer\n",
    "BankAccount.transfer_funds(account_a, account_b, 100)  # This will fail and rollback"
   ]
  },
  {
   "cell_type": "code",
   "execution_count": 25,
   "id": "3f0b71b4",
   "metadata": {},
   "outputs": [
    {
     "name": "stdout",
     "output_type": "stream",
     "text": [
      "✅ Credit card number is valid.\n"
     ]
    }
   ],
   "source": [
    "#29.Write a program to validate credit card numbers and raise exceptions for invalid inputs.\n",
    "class InvalidCreditCardError(Exception):\n",
    "    pass\n",
    "\n",
    "def validate_credit_card(card_number):\n",
    "    if not card_number.isdigit():\n",
    "        raise InvalidCreditCardError(\"Credit card number must contain only digits.\")\n",
    "    \n",
    "    if len(card_number) != 16:\n",
    "        raise InvalidCreditCardError(\"Credit card number must be exactly 16 digits.\")\n",
    "    \n",
    "    return \"✅ Credit card number is valid.\"\n",
    "\n",
    "try:\n",
    "    card = input(\"Enter 16-digit credit card number: \")\n",
    "    print(validate_credit_card(card))\n",
    "except InvalidCreditCardError as e:\n",
    "    print(f\"❌ Validation failed: {e}\")\n"
   ]
  },
  {
   "cell_type": "code",
   "execution_count": 30,
   "id": "651b4072",
   "metadata": {},
   "outputs": [
    {
     "name": "stdout",
     "output_type": "stream",
     "text": [
      "❌Memory used : 65%, exceeded limit of 60%.\n"
     ]
    }
   ],
   "source": [
    "#30.Write a program that raises an exception if memory usage goes beyond a threshold.\n",
    "class MemoryLimitError(Exception):\n",
    "    pass\n",
    "\n",
    "def check_memory(usage, limit=60):\n",
    "    if usage > limit:\n",
    "        raise MemoryLimitError(f\"❌Memory used : {usage}%, exceeded limit of {limit}%.\")\n",
    "    print(f\"Memory {usage}% is safe.\")\n",
    "\n",
    "# Test the function\n",
    "try:\n",
    "    check_memory(65)  \n",
    "except MemoryLimitError as e:\n",
    "    print(e)\n"
   ]
  }
 ],
 "metadata": {
  "kernelspec": {
   "display_name": "Python 3",
   "language": "python",
   "name": "python3"
  },
  "language_info": {
   "codemirror_mode": {
    "name": "ipython",
    "version": 3
   },
   "file_extension": ".py",
   "mimetype": "text/x-python",
   "name": "python",
   "nbconvert_exporter": "python",
   "pygments_lexer": "ipython3",
   "version": "3.13.5"
  }
 },
 "nbformat": 4,
 "nbformat_minor": 5
}
