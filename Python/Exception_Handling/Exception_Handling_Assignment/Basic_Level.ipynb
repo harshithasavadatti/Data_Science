{
 "cells": [
  {
   "cell_type": "markdown",
   "id": "8c3e084c",
   "metadata": {},
   "source": [
    "Exception Handling Coding Questions"
   ]
  },
  {
   "cell_type": "markdown",
   "id": "37a7a918",
   "metadata": {},
   "source": [
    "Basic Level Questions"
   ]
  },
  {
   "cell_type": "code",
   "execution_count": 11,
   "id": "c18aa7a4",
   "metadata": {},
   "outputs": [
    {
     "name": "stdout",
     "output_type": "stream",
     "text": [
      "5.0\n"
     ]
    }
   ],
   "source": [
    "# 1.Write a program to handle division by zero using try-except.\n",
    "class ZeroDivisionError(Exception):\n",
    "    pass\n",
    "    def divide_numbers(num1, num2):\n",
    "        try:\n",
    "            result = num1 / num2\n",
    "            return result\n",
    "        except ZeroDivisionError:\n",
    "            return \"Error: Division by zero is not allowed.\"\n",
    "    print(divide_numbers(10, 2)) "
   ]
  },
  {
   "cell_type": "code",
   "execution_count": 12,
   "id": "738466ff",
   "metadata": {},
   "outputs": [
    {
     "ename": "ValueError",
     "evalue": "could not convert string to float: 'abc'",
     "output_type": "error",
     "traceback": [
      "\u001b[31m---------------------------------------------------------------------------\u001b[39m",
      "\u001b[31mValueError\u001b[39m                                Traceback (most recent call last)",
      "\u001b[36mCell\u001b[39m\u001b[36m \u001b[39m\u001b[32mIn[12]\u001b[39m\u001b[32m, line 10\u001b[39m\n\u001b[32m      8\u001b[39m     \u001b[38;5;28;01mexcept\u001b[39;00m InvalidInputError:\n\u001b[32m      9\u001b[39m         \u001b[38;5;28;01mreturn\u001b[39;00m \u001b[33m\"\u001b[39m\u001b[33mError: Invalid input. Please enter a valid number.\u001b[39m\u001b[33m\"\u001b[39m\n\u001b[32m---> \u001b[39m\u001b[32m10\u001b[39m \u001b[38;5;28mprint\u001b[39m(\u001b[43mget_number\u001b[49m\u001b[43m(\u001b[49m\u001b[33;43m\"\u001b[39;49m\u001b[33;43mabc\u001b[39;49m\u001b[33;43m\"\u001b[39;49m\u001b[43m)\u001b[49m)\n",
      "\u001b[36mCell\u001b[39m\u001b[36m \u001b[39m\u001b[32mIn[12]\u001b[39m\u001b[32m, line 6\u001b[39m, in \u001b[36mget_number\u001b[39m\u001b[34m(num)\u001b[39m\n\u001b[32m      4\u001b[39m \u001b[38;5;28;01mdef\u001b[39;00m\u001b[38;5;250m \u001b[39m\u001b[34mget_number\u001b[39m(num):\n\u001b[32m      5\u001b[39m     \u001b[38;5;28;01mtry\u001b[39;00m:\n\u001b[32m----> \u001b[39m\u001b[32m6\u001b[39m         number = \u001b[38;5;28;43mfloat\u001b[39;49m\u001b[43m(\u001b[49m\u001b[43mnum\u001b[49m\u001b[43m)\u001b[49m\n\u001b[32m      7\u001b[39m         \u001b[38;5;28;01mreturn\u001b[39;00m number\n\u001b[32m      8\u001b[39m     \u001b[38;5;28;01mexcept\u001b[39;00m InvalidInputError:\n",
      "\u001b[31mValueError\u001b[39m: could not convert string to float: 'abc'"
     ]
    }
   ],
   "source": [
    "# 2.Write a program to handle invalid user input (string instead of number).\n",
    "class InvalidInputError(Exception):\n",
    "    pass\n",
    "def get_number(num):\n",
    "    try:\n",
    "        number = float(num)\n",
    "        return number\n",
    "    except InvalidInputError:\n",
    "        return \"Error: Invalid input. Please enter a valid number.\"\n",
    "print(get_number(\"abc\"))\n"
   ]
  },
  {
   "cell_type": "code",
   "execution_count": 20,
   "id": "bd85915a",
   "metadata": {},
   "outputs": [
    {
     "name": "stdout",
     "output_type": "stream",
     "text": [
      "Error: Index out of range.\n"
     ]
    }
   ],
   "source": [
    "# 3.Write a program that catches IndexError when accessing a list element.\n",
    "class ListIndexError(Exception):\n",
    "    pass    \n",
    "def access_list_element(list1, index):\n",
    "    try:\n",
    "        element = list1[index]\n",
    "        return element\n",
    "    except IndexError:\n",
    "        raise ListIndexError(\"Error: Index out of range.\")\n",
    "\n",
    "# Example usage with custom exception handling\n",
    "try:\n",
    "    print(access_list_element([1, 2, 3],5))\n",
    "except ListIndexError as e:\n",
    "    print(e)\n"
   ]
  },
  {
   "cell_type": "code",
   "execution_count": 2,
   "id": "8fa6f600",
   "metadata": {},
   "outputs": [
    {
     "ename": "OSError",
     "evalue": "[Errno 22] Invalid argument: 'H:\\\\Exception-Handling\\\\files\\\\1\\x02.txt'",
     "output_type": "error",
     "traceback": [
      "\u001b[31m---------------------------------------------------------------------------\u001b[39m",
      "\u001b[31mOSError\u001b[39m                                   Traceback (most recent call last)",
      "\u001b[36mCell\u001b[39m\u001b[36m \u001b[39m\u001b[32mIn[2]\u001b[39m\u001b[32m, line 12\u001b[39m\n\u001b[32m     10\u001b[39m         \u001b[38;5;28;01mraise\u001b[39;00m FileMissingError(\u001b[33m\"\u001b[39m\u001b[33mError: File not found.\u001b[39m\u001b[33m\"\u001b[39m)\n\u001b[32m     11\u001b[39m \u001b[38;5;28;01mtry\u001b[39;00m:    \n\u001b[32m---> \u001b[39m\u001b[32m12\u001b[39m     \u001b[38;5;28mprint\u001b[39m(\u001b[43mread_file\u001b[49m\u001b[43m(\u001b[49m\u001b[33;43m\"\u001b[39;49m\u001b[33;43mH:\u001b[39;49m\u001b[38;5;130;43;01m\\\\\u001b[39;49;00m\u001b[33;43mException-Handling\u001b[39;49m\u001b[38;5;130;43;01m\\\\\u001b[39;49;00m\u001b[33;43mfiles\u001b[39;49m\u001b[38;5;130;43;01m\\\\\u001b[39;49;00m\u001b[33;43m1\u001b[39;49m\u001b[38;5;130;43;01m\\2\u001b[39;49;00m\u001b[33;43m.txt\u001b[39;49m\u001b[33;43m\"\u001b[39;49m\u001b[43m)\u001b[49m)\n\u001b[32m     13\u001b[39m \u001b[38;5;28;01mexcept\u001b[39;00m FileMissingError \u001b[38;5;28;01mas\u001b[39;00m e:\n\u001b[32m     14\u001b[39m     \u001b[38;5;28mprint\u001b[39m(e)\n",
      "\u001b[36mCell\u001b[39m\u001b[36m \u001b[39m\u001b[32mIn[2]\u001b[39m\u001b[32m, line 6\u001b[39m, in \u001b[36mread_file\u001b[39m\u001b[34m(file_path)\u001b[39m\n\u001b[32m      4\u001b[39m \u001b[38;5;28;01mdef\u001b[39;00m\u001b[38;5;250m \u001b[39m\u001b[34mread_file\u001b[39m(file_path):\n\u001b[32m      5\u001b[39m     \u001b[38;5;28;01mtry\u001b[39;00m:\n\u001b[32m----> \u001b[39m\u001b[32m6\u001b[39m         \u001b[38;5;28;01mwith\u001b[39;00m \u001b[38;5;28;43mopen\u001b[39;49m\u001b[43m(\u001b[49m\u001b[43mfile_path\u001b[49m\u001b[43m,\u001b[49m\u001b[43m \u001b[49m\u001b[33;43m'\u001b[39;49m\u001b[33;43mr\u001b[39;49m\u001b[33;43m'\u001b[39;49m\u001b[43m)\u001b[49m \u001b[38;5;28;01mas\u001b[39;00m file:\n\u001b[32m      7\u001b[39m             content = file.read()\n\u001b[32m      8\u001b[39m             \u001b[38;5;28;01mreturn\u001b[39;00m content\n",
      "\u001b[36mFile \u001b[39m\u001b[32m~\\AppData\\Roaming\\Python\\Python313\\site-packages\\IPython\\core\\interactiveshell.py:343\u001b[39m, in \u001b[36m_modified_open\u001b[39m\u001b[34m(file, *args, **kwargs)\u001b[39m\n\u001b[32m    336\u001b[39m \u001b[38;5;28;01mif\u001b[39;00m file \u001b[38;5;129;01min\u001b[39;00m {\u001b[32m0\u001b[39m, \u001b[32m1\u001b[39m, \u001b[32m2\u001b[39m}:\n\u001b[32m    337\u001b[39m     \u001b[38;5;28;01mraise\u001b[39;00m \u001b[38;5;167;01mValueError\u001b[39;00m(\n\u001b[32m    338\u001b[39m         \u001b[33mf\u001b[39m\u001b[33m\"\u001b[39m\u001b[33mIPython won\u001b[39m\u001b[33m'\u001b[39m\u001b[33mt let you open fd=\u001b[39m\u001b[38;5;132;01m{\u001b[39;00mfile\u001b[38;5;132;01m}\u001b[39;00m\u001b[33m by default \u001b[39m\u001b[33m\"\u001b[39m\n\u001b[32m    339\u001b[39m         \u001b[33m\"\u001b[39m\u001b[33mas it is likely to crash IPython. If you know what you are doing, \u001b[39m\u001b[33m\"\u001b[39m\n\u001b[32m    340\u001b[39m         \u001b[33m\"\u001b[39m\u001b[33myou can use builtins\u001b[39m\u001b[33m'\u001b[39m\u001b[33m open.\u001b[39m\u001b[33m\"\u001b[39m\n\u001b[32m    341\u001b[39m     )\n\u001b[32m--> \u001b[39m\u001b[32m343\u001b[39m \u001b[38;5;28;01mreturn\u001b[39;00m \u001b[43mio_open\u001b[49m\u001b[43m(\u001b[49m\u001b[43mfile\u001b[49m\u001b[43m,\u001b[49m\u001b[43m \u001b[49m\u001b[43m*\u001b[49m\u001b[43margs\u001b[49m\u001b[43m,\u001b[49m\u001b[43m \u001b[49m\u001b[43m*\u001b[49m\u001b[43m*\u001b[49m\u001b[43mkwargs\u001b[49m\u001b[43m)\u001b[49m\n",
      "\u001b[31mOSError\u001b[39m: [Errno 22] Invalid argument: 'H:\\\\Exception-Handling\\\\files\\\\1\\x02.txt'"
     ]
    }
   ],
   "source": [
    "#4.Write a program to open a file and handle FileNotFoundError.\n",
    "class FileMissingError(Exception):\n",
    "    pass    \n",
    "def read_file(file_path):\n",
    "    try:\n",
    "        with open(file_path, 'r') as file:\n",
    "            content = file.read()\n",
    "            return content\n",
    "    except FileNotFoundError:\n",
    "        raise FileMissingError(\"Error: File not found.\")\n",
    "try:    \n",
    "    print(read_file(\"H:\\\\Exception-Handling\\\\files\\\\1\\2.txt\"))\n",
    "except FileMissingError as e:\n",
    "    print(e)"
   ]
  },
  {
   "cell_type": "code",
   "execution_count": 7,
   "id": "c914939a",
   "metadata": {},
   "outputs": [
    {
     "ename": "ZeroDivisionError",
     "evalue": "division by zero",
     "output_type": "error",
     "traceback": [
      "\u001b[31m---------------------------------------------------------------------------\u001b[39m",
      "\u001b[31mZeroDivisionError\u001b[39m                         Traceback (most recent call last)",
      "\u001b[36mCell\u001b[39m\u001b[36m \u001b[39m\u001b[32mIn[7]\u001b[39m\u001b[32m, line 15\u001b[39m\n\u001b[32m     13\u001b[39m     \u001b[38;5;28;01mexcept\u001b[39;00m \u001b[38;5;167;01mValueError\u001b[39;00m:\n\u001b[32m     14\u001b[39m         \u001b[38;5;28;01mreturn\u001b[39;00m \u001b[33m\"\u001b[39m\u001b[33mError: Invalid value encountered.\u001b[39m\u001b[33m\"\u001b[39m\n\u001b[32m---> \u001b[39m\u001b[32m15\u001b[39m \u001b[38;5;28mprint\u001b[39m(\u001b[43mdivide_and_convert\u001b[49m\u001b[43m(\u001b[49m\u001b[32;43m10\u001b[39;49m\u001b[43m,\u001b[49m\u001b[43m \u001b[49m\u001b[32;43m0\u001b[39;49m\u001b[43m)\u001b[49m)  \n\u001b[32m     16\u001b[39m \u001b[38;5;28mprint\u001b[39m(divide_and_convert(\u001b[32m10\u001b[39m, \u001b[33m'\u001b[39m\u001b[33ma\u001b[39m\u001b[33m'\u001b[39m))  \n",
      "\u001b[36mCell\u001b[39m\u001b[36m \u001b[39m\u001b[32mIn[7]\u001b[39m\u001b[32m, line 8\u001b[39m, in \u001b[36mdivide_and_convert\u001b[39m\u001b[34m(num1, num2)\u001b[39m\n\u001b[32m      6\u001b[39m \u001b[38;5;28;01mdef\u001b[39;00m\u001b[38;5;250m \u001b[39m\u001b[34mdivide_and_convert\u001b[39m(num1, num2):\n\u001b[32m      7\u001b[39m     \u001b[38;5;28;01mtry\u001b[39;00m:\n\u001b[32m----> \u001b[39m\u001b[32m8\u001b[39m         result = \u001b[43mnum1\u001b[49m\u001b[43m \u001b[49m\u001b[43m/\u001b[49m\u001b[43m \u001b[49m\u001b[43mnum2\u001b[49m\n\u001b[32m      9\u001b[39m         converted_result = \u001b[38;5;28mfloat\u001b[39m(result)\n\u001b[32m     10\u001b[39m         \u001b[38;5;28;01mreturn\u001b[39;00m converted_result\n",
      "\u001b[31mZeroDivisionError\u001b[39m: division by zero"
     ]
    }
   ],
   "source": [
    "# 5.Write a program that handles multiple exceptions (ZeroDivisionError, ValueError).\n",
    "class ZeroDivisionError(Exception):\n",
    "    pass\n",
    "class ValueError(Exception):\n",
    "    pass    \n",
    "def divide_and_convert(num1, num2):\n",
    "    try:\n",
    "        result = num1 / num2\n",
    "        converted_result = float(result)\n",
    "        return converted_result\n",
    "    except ZeroDivisionError:\n",
    "        return \"Error: Division by zero is not allowed.\"\n",
    "    except ValueError:\n",
    "        return \"Error: Invalid value encountered.\"\n",
    "print(divide_and_convert(10, 0))  \n",
    "print(divide_and_convert(10, 'a'))  \n",
    "\n"
   ]
  },
  {
   "cell_type": "code",
   "execution_count": 18,
   "id": "d5b7d4ac",
   "metadata": {},
   "outputs": [
    {
     "ename": "ValueError",
     "evalue": "invalid literal for int() with base 10: 'a'",
     "output_type": "error",
     "traceback": [
      "\u001b[31m---------------------------------------------------------------------------\u001b[39m",
      "\u001b[31mValueError\u001b[39m                                Traceback (most recent call last)",
      "\u001b[36mCell\u001b[39m\u001b[36m \u001b[39m\u001b[32mIn[18]\u001b[39m\u001b[32m, line 14\u001b[39m\n\u001b[32m     12\u001b[39m         \u001b[38;5;28;01melse\u001b[39;00m:\n\u001b[32m     13\u001b[39m             \u001b[38;5;28;01mreturn\u001b[39;00m \u001b[33mf\u001b[39m\u001b[33m\"\u001b[39m\u001b[38;5;132;01m{\u001b[39;00mnumber\u001b[38;5;132;01m}\u001b[39;00m\u001b[33m is odd.\u001b[39m\u001b[33m\"\u001b[39m  \n\u001b[32m---> \u001b[39m\u001b[32m14\u001b[39m \u001b[38;5;28mprint\u001b[39m(\u001b[43meven_check\u001b[49m\u001b[43m(\u001b[49m\u001b[33;43m'\u001b[39;49m\u001b[33;43ma\u001b[39;49m\u001b[33;43m'\u001b[39;49m\u001b[43m)\u001b[49m)\n",
      "\u001b[36mCell\u001b[39m\u001b[36m \u001b[39m\u001b[32mIn[18]\u001b[39m\u001b[32m, line 6\u001b[39m, in \u001b[36meven_check\u001b[39m\u001b[34m(num)\u001b[39m\n\u001b[32m      4\u001b[39m \u001b[38;5;28;01mdef\u001b[39;00m\u001b[38;5;250m \u001b[39m\u001b[34meven_check\u001b[39m(num):\n\u001b[32m      5\u001b[39m     \u001b[38;5;28;01mtry\u001b[39;00m:\n\u001b[32m----> \u001b[39m\u001b[32m6\u001b[39m         number =\u001b[38;5;28;43mint\u001b[39;49m\u001b[43m(\u001b[49m\u001b[43mnum\u001b[49m\u001b[43m)\u001b[49m\n\u001b[32m      7\u001b[39m     \u001b[38;5;28;01mexcept\u001b[39;00m \u001b[38;5;167;01mValueError\u001b[39;00m:\n\u001b[32m      8\u001b[39m         \u001b[38;5;28;01mreturn\u001b[39;00m \u001b[33m\"\u001b[39m\u001b[33mError: Invalid input. Please enter a valid integer.\u001b[39m\u001b[33m\"\u001b[39m        \n",
      "\u001b[31mValueError\u001b[39m: invalid literal for int() with base 10: 'a'"
     ]
    }
   ],
   "source": [
    "#6 .Write a program using try-except-else to check if a number is even.\n",
    "class ValueError(Exception):\n",
    "    pass\n",
    "def even_check(num):\n",
    "    try:\n",
    "        number =int(num)\n",
    "    except ValueError:\n",
    "        return \"Error: Invalid input. Please enter a valid integer.\"        \n",
    "    else:\n",
    "        if number % 2 == 0:\n",
    "            return f\"{number} is even.\"\n",
    "        else:\n",
    "            return f\"{number} is odd.\"  \n",
    "print(even_check('a'))"
   ]
  },
  {
   "cell_type": "code",
   "execution_count": 25,
   "id": "bd48e31a",
   "metadata": {},
   "outputs": [
    {
     "name": "stdout",
     "output_type": "stream",
     "text": [
      "Execution Completed\n",
      "5.0\n"
     ]
    }
   ],
   "source": [
    "#7.Write a program with finally block to always display \"Execution Completed\".\n",
    "class ZeroDivisionError(Exception):\n",
    "    pass    \n",
    "def divide_numbers(num1, num2):\n",
    "    try:\n",
    "        result = num1 / num2\n",
    "        return result\n",
    "    except ZeroDivisionError:\n",
    "        return \"Error: Division by zero is not allowed.\"\n",
    "    finally:\n",
    "        print(\"Execution Completed\")        \n",
    "print(divide_numbers(10,2))    "
   ]
  },
  {
   "cell_type": "code",
   "execution_count": 2,
   "id": "5aa61f7d",
   "metadata": {},
   "outputs": [
    {
     "ename": "ValueError",
     "evalue": "invalid literal for int() with base 10: 'a'",
     "output_type": "error",
     "traceback": [
      "\u001b[31m---------------------------------------------------------------------------\u001b[39m",
      "\u001b[31mValueError\u001b[39m                                Traceback (most recent call last)",
      "\u001b[36mCell\u001b[39m\u001b[36m \u001b[39m\u001b[32mIn[2]\u001b[39m\u001b[32m, line 17\u001b[39m\n\u001b[32m     15\u001b[39m     \u001b[38;5;28;01mexcept\u001b[39;00m \u001b[38;5;167;01mValueError\u001b[39;00m:\n\u001b[32m     16\u001b[39m         \u001b[38;5;28;01mreturn\u001b[39;00m \u001b[33m\"\u001b[39m\u001b[33mError: Invalid input. Please enter valid integers.\u001b[39m\u001b[33m\"\u001b[39m\n\u001b[32m---> \u001b[39m\u001b[32m17\u001b[39m \u001b[38;5;28mprint\u001b[39m(\u001b[43mnested_try_except\u001b[49m\u001b[43m(\u001b[49m\u001b[32;43m10\u001b[39;49m\u001b[43m,\u001b[49m\u001b[33;43m'\u001b[39;49m\u001b[33;43ma\u001b[39;49m\u001b[33;43m'\u001b[39;49m\u001b[43m)\u001b[49m)    \n",
      "\u001b[36mCell\u001b[39m\u001b[36m \u001b[39m\u001b[32mIn[2]\u001b[39m\u001b[32m, line 9\u001b[39m, in \u001b[36mnested_try_except\u001b[39m\u001b[34m(n1, n2)\u001b[39m\n\u001b[32m      7\u001b[39m \u001b[38;5;28;01mtry\u001b[39;00m:\n\u001b[32m      8\u001b[39m     n1 = \u001b[38;5;28mint\u001b[39m(n1)\n\u001b[32m----> \u001b[39m\u001b[32m9\u001b[39m     n2 = \u001b[38;5;28;43mint\u001b[39;49m\u001b[43m(\u001b[49m\u001b[43mn2\u001b[49m\u001b[43m)\u001b[49m\n\u001b[32m     10\u001b[39m     \u001b[38;5;28;01mtry\u001b[39;00m:\n\u001b[32m     11\u001b[39m         result = n1 / n2\n",
      "\u001b[31mValueError\u001b[39m: invalid literal for int() with base 10: 'a'"
     ]
    }
   ],
   "source": [
    "#8.Write a program to demonstrate nested try-except blocks.\n",
    "class ZeroDivisionError(Exception):\n",
    "    pass\n",
    "class ValueError(Exception):\n",
    "    pass\n",
    "def nested_try_except(n1,n2):\n",
    "    try:\n",
    "        n1 = int(n1)\n",
    "        n2 = int(n2)\n",
    "        try:\n",
    "            result = n1 / n2\n",
    "            return result\n",
    "        except ZeroDivisionError:\n",
    "            return \"Error: Division by zero is not allowed.\"\n",
    "    except ValueError:\n",
    "        return \"Error: Invalid input. Please enter valid integers.\"\n",
    "print(nested_try_except(10,'a'))    "
   ]
  },
  {
   "cell_type": "code",
   "execution_count": null,
   "id": "80e9827a",
   "metadata": {},
   "outputs": [
    {
     "ename": "ZeroDivisionError",
     "evalue": "division by zero",
     "output_type": "error",
     "traceback": [
      "\u001b[31m---------------------------------------------------------------------------\u001b[39m",
      "\u001b[31mZeroDivisionError\u001b[39m                         Traceback (most recent call last)",
      "\u001b[36mCell\u001b[39m\u001b[36m \u001b[39m\u001b[32mIn[4]\u001b[39m\u001b[32m, line 5\u001b[39m\n\u001b[32m      3\u001b[39m b = \u001b[38;5;28mint\u001b[39m(\u001b[38;5;28minput\u001b[39m(\u001b[33m\"\u001b[39m\u001b[33mEnter a number: \u001b[39m\u001b[33m\"\u001b[39m))\n\u001b[32m      4\u001b[39m \u001b[38;5;28;01mtry\u001b[39;00m:\n\u001b[32m----> \u001b[39m\u001b[32m5\u001b[39m     result = \u001b[43ma\u001b[49m\u001b[43m/\u001b[49m\u001b[43mb\u001b[49m\n\u001b[32m      6\u001b[39m \u001b[38;5;28;01mexcept\u001b[39;00m \u001b[38;5;167;01mZeroDivisionError\u001b[39;00m \u001b[38;5;28;01mas\u001b[39;00m e:\n\u001b[32m      7\u001b[39m     \u001b[38;5;28mprint\u001b[39m(\u001b[33m\"\u001b[39m\u001b[33mError\u001b[39m\u001b[33m\"\u001b[39m,e)\n",
      "\u001b[31mZeroDivisionError\u001b[39m: division by zero"
     ]
    }
   ],
   "source": [
    "#9.Write a program that asks for two numbers and handles both division and conversion errors.\n",
    "class ZeroDivisionError(Exception):\n",
    "    pass\n",
    "class ValueError(Exception):\n",
    "    pass\n",
    "def divide_numbers(num1, num2):\n",
    "    try:\n",
    "        n1 = int(num1)\n",
    "        n2 = int(num2)\n",
    "        result = n1 / n2\n",
    "        return result\n",
    "    except ZeroDivisionError:\n",
    "        return \"Error: Division by zero is not allowed.\"\n",
    "    except ValueError:\n",
    "        return \"Error: Invalid input. Please enter valid integers.\"\n",
    "print(divide_numbers(10,'a'))\n"
   ]
  },
  {
   "cell_type": "code",
   "execution_count": 6,
   "id": "3417a5fe",
   "metadata": {},
   "outputs": [
    {
     "ename": "TypeError",
     "evalue": "unsupported operand type(s) for +: 'int' and 'str'",
     "output_type": "error",
     "traceback": [
      "\u001b[31m---------------------------------------------------------------------------\u001b[39m",
      "\u001b[31mTypeError\u001b[39m                                 Traceback (most recent call last)",
      "\u001b[36mCell\u001b[39m\u001b[36m \u001b[39m\u001b[32mIn[6]\u001b[39m\u001b[32m, line 10\u001b[39m\n\u001b[32m      8\u001b[39m     \u001b[38;5;28;01mexcept\u001b[39;00m \u001b[38;5;167;01mTypeError\u001b[39;00m:\n\u001b[32m      9\u001b[39m         \u001b[38;5;28;01mreturn\u001b[39;00m \u001b[33m\"\u001b[39m\u001b[33mError: Type mismatch.\u001b[39m\u001b[33m\"\u001b[39m\n\u001b[32m---> \u001b[39m\u001b[32m10\u001b[39m \u001b[38;5;28mprint\u001b[39m(\u001b[43madd_number\u001b[49m\u001b[43m(\u001b[49m\u001b[32;43m10\u001b[39;49m\u001b[43m,\u001b[49m\u001b[33;43m'\u001b[39;49m\u001b[33;43ma\u001b[39;49m\u001b[33;43m'\u001b[39;49m\u001b[43m)\u001b[49m)\n",
      "\u001b[36mCell\u001b[39m\u001b[36m \u001b[39m\u001b[32mIn[6]\u001b[39m\u001b[32m, line 6\u001b[39m, in \u001b[36madd_number\u001b[39m\u001b[34m(a, b)\u001b[39m\n\u001b[32m      4\u001b[39m \u001b[38;5;28;01mdef\u001b[39;00m\u001b[38;5;250m \u001b[39m\u001b[34madd_number\u001b[39m(a,b):\n\u001b[32m      5\u001b[39m     \u001b[38;5;28;01mtry\u001b[39;00m:\n\u001b[32m----> \u001b[39m\u001b[32m6\u001b[39m         result = \u001b[43ma\u001b[49m\u001b[43m \u001b[49m\u001b[43m+\u001b[49m\u001b[43m \u001b[49m\u001b[43mb\u001b[49m\n\u001b[32m      7\u001b[39m         \u001b[38;5;28;01mreturn\u001b[39;00m result \n\u001b[32m      8\u001b[39m     \u001b[38;5;28;01mexcept\u001b[39;00m \u001b[38;5;167;01mTypeError\u001b[39;00m:\n",
      "\u001b[31mTypeError\u001b[39m: unsupported operand type(s) for +: 'int' and 'str'"
     ]
    }
   ],
   "source": [
    "#10.Write a program that raises and handles a TypeError.\n",
    "class TypeError(Exception):\n",
    "    pass\n",
    "def add_number(a,b):\n",
    "    try:\n",
    "        result = a + b\n",
    "        return result \n",
    "    except TypeError:\n",
    "        return \"Error: Type mismatch.\"\n",
    "print(add_number(10,'a'))"
   ]
  },
  {
   "cell_type": "markdown",
   "id": "c8a80cb6",
   "metadata": {},
   "source": [
    "Intermediate Level"
   ]
  },
  {
   "cell_type": "code",
   "execution_count": 10,
   "id": "14f3d332",
   "metadata": {},
   "outputs": [
    {
     "name": "stdout",
     "output_type": "stream",
     "text": [
      "✅ Withdrawal of 5000 successful! Remaining balance: 3000\n"
     ]
    }
   ],
   "source": [
    "# 11. Write a function to withdraw money and raise an exception if balance < withdrawal.\n",
    "class InsufficientBalanceError(Exception):\n",
    "    pass\n",
    "def withdraw(balance, amount):\n",
    "    if amount > balance:\n",
    "        raise InsufficientBalanceError(f\"❌ Withdrawal of {amount} failed! Available balance: {balance}\")\n",
    "    balance -= amount\n",
    "    return f\"✅ Withdrawal of {amount} successful! Remaining balance: {balance}\"\n",
    "\n",
    "balance = int(input(\"Enter your current balance: \"))\n",
    "amount = int(input(\"Enter amount to withdraw: \"))\n",
    "try:\n",
    "    print(withdraw(balance, amount))\n",
    "except InsufficientBalanceError as e:\n",
    "    print(e)\n"
   ]
  },
  {
   "cell_type": "code",
   "execution_count": 13,
   "id": "265e0127",
   "metadata": {},
   "outputs": [
    {
     "name": "stdout",
     "output_type": "stream",
     "text": [
      "❌ Age validation failed! Must be at least 18 years old.\n"
     ]
    }
   ],
   "source": [
    "#12.Write a function that validates age and raises an exception if age < 18.\n",
    "class ValidateAge(Exception):\n",
    "    pass\n",
    "def check_age(age):\n",
    "    if age < 18:\n",
    "        raise ValidateAge(\"❌ Age validation failed! Must be at least 18 years old.\")\n",
    "    else:\n",
    "        return \"✅ Age validation successful! You are eligible.\"\n",
    "    \n",
    "age = int(input(\"Enter your age: \"))\n",
    "try:\n",
    "    print(check_age(age))\n",
    "except ValidateAge as e:\n",
    "    print(e)\n",
    "    \n"
   ]
  },
  {
   "cell_type": "code",
   "execution_count": null,
   "id": "bff792c8",
   "metadata": {},
   "outputs": [
    {
     "name": "stdout",
     "output_type": "stream",
     "text": [
      "Valid email format.\n"
     ]
    }
   ],
   "source": [
    "# 13. Write a program to validate email format and raise a custom exception\n",
    "class InvalidEmailError(Exception):\n",
    "    pass    \n",
    "def validate_email(email):\n",
    "    if \"@\" not in email or \".\" not in email[email.index(\"@\"):]:\n",
    "        raise InvalidEmailError(\"Error: Invalid email format.\")\n",
    "    else:\n",
    "        return \"Valid email format.\"\n",
    "email = input(\"Enter your email: \")\n",
    "try:\n",
    "    print(validate_email(email))\n",
    "except InvalidEmailError as e:\n",
    "    print(e)"
   ]
  },
  {
   "cell_type": "code",
   "execution_count": null,
   "id": "76175e3f",
   "metadata": {},
   "outputs": [],
   "source": [
    "# using regex \n",
    "# import re\n",
    "\n",
    "# # Custom exception\n",
    "# class InvalidEmailError(Exception):\n",
    "#     pass    \n",
    "\n",
    "# def validate_email(email):\n",
    "#     # Regex for strict email validation\n",
    "#     pattern = r'^[A-Za-z0-9._%+-]+@[A-Za-z0-9.-]+\\.[A-Za-z]{2,}$'\n",
    "    \n",
    "#     if not re.match(pattern, email):\n",
    "#         raise InvalidEmailError(\"Error: Invalid email format.\")\n",
    "    \n",
    "#     return \"Valid email format.\"\n",
    "\n",
    "# # Example usage\n",
    "# email = input(\"Enter your email: \")\n",
    "# try:\n",
    "#     print(validate_email(email))\n",
    "# except InvalidEmailError as e:\n",
    "#     print(e)"
   ]
  },
  {
   "cell_type": "code",
   "execution_count": 29,
   "id": "d3939112",
   "metadata": {},
   "outputs": [
    {
     "ename": "NegativeNumberError",
     "evalue": "Error: Cannot compute square root of a negative number.",
     "output_type": "error",
     "traceback": [
      "\u001b[31m---------------------------------------------------------------------------\u001b[39m",
      "\u001b[31mNegativeNumberError\u001b[39m                       Traceback (most recent call last)",
      "\u001b[36mCell\u001b[39m\u001b[36m \u001b[39m\u001b[32mIn[29]\u001b[39m\u001b[32m, line 10\u001b[39m\n\u001b[32m      8\u001b[39m     \u001b[38;5;28;01melse\u001b[39;00m:\n\u001b[32m      9\u001b[39m         \u001b[38;5;28;01mreturn\u001b[39;00m \u001b[38;5;28mpow\u001b[39m(num, \u001b[32m0.5\u001b[39m)\n\u001b[32m---> \u001b[39m\u001b[32m10\u001b[39m \u001b[38;5;28mprint\u001b[39m(\u001b[43msquare_root\u001b[49m\u001b[43m(\u001b[49m\u001b[43m-\u001b[49m\u001b[32;43m1\u001b[39;49m\u001b[43m)\u001b[49m)\n",
      "\u001b[36mCell\u001b[39m\u001b[36m \u001b[39m\u001b[32mIn[29]\u001b[39m\u001b[32m, line 7\u001b[39m, in \u001b[36msquare_root\u001b[39m\u001b[34m(num)\u001b[39m\n\u001b[32m      5\u001b[39m \u001b[38;5;28;01mdef\u001b[39;00m\u001b[38;5;250m \u001b[39m\u001b[34msquare_root\u001b[39m(num):\n\u001b[32m      6\u001b[39m     \u001b[38;5;28;01mif\u001b[39;00m num < \u001b[32m0\u001b[39m:\n\u001b[32m----> \u001b[39m\u001b[32m7\u001b[39m         \u001b[38;5;28;01mraise\u001b[39;00m NegativeNumberError(\u001b[33m\"\u001b[39m\u001b[33mError: Cannot compute square root of a negative number.\u001b[39m\u001b[33m\"\u001b[39m)\n\u001b[32m      8\u001b[39m     \u001b[38;5;28;01melse\u001b[39;00m:\n\u001b[32m      9\u001b[39m         \u001b[38;5;28;01mreturn\u001b[39;00m \u001b[38;5;28mpow\u001b[39m(num, \u001b[32m0.5\u001b[39m)\n",
      "\u001b[31mNegativeNumberError\u001b[39m: Error: Cannot compute square root of a negative number."
     ]
    }
   ],
   "source": [
    "#14 .Write a custom exception NegativeNumberError and use it in a square root function.\n",
    "import math\n",
    "class NegativeNumberError(Exception):\n",
    "    pass\n",
    "def square_root(num):\n",
    "    if num < 0:\n",
    "        raise NegativeNumberError(\"Error: Cannot compute square root of a negative number.\")\n",
    "    else:\n",
    "        return pow(num, 0.5)\n",
    "print(square_root(-1))"
   ]
  },
  {
   "cell_type": "code",
   "execution_count": 31,
   "id": "e811c5a7",
   "metadata": {},
   "outputs": [
    {
     "name": "stdout",
     "output_type": "stream",
     "text": [
      "Error: Insufficient funds for this withdrawal.\n"
     ]
    }
   ],
   "source": [
    "#15 .Write a custom exception for InsufficientFundsError in a banking system.\n",
    "class InsufficientFundsError(Exception):\n",
    "    pass\n",
    "def withdraw_funds(balance, amount):\n",
    "    if amount > balance:\n",
    "        raise InsufficientFundsError(\"Error: Insufficient funds for this withdrawal.\")\n",
    "    else:\n",
    "        balance -= amount\n",
    "        return balance\n",
    "\n",
    "balance = int(input(\"Enter your current balance: \"))\n",
    "amount = int(input(\"Enter amount to withdraw: \"))\n",
    "try:\n",
    "    new_balance = withdraw_funds(balance, amount)\n",
    "    print(f\"Withdrawal successful! New balance: {new_balance}\") \n",
    "except InsufficientFundsError as e:\n",
    "    print(e)\n",
    "    "
   ]
  },
  {
   "cell_type": "code",
   "execution_count": null,
   "id": "6245e8e9",
   "metadata": {},
   "outputs": [
    {
     "name": "stdout",
     "output_type": "stream",
     "text": [
      "Error: Invalid JSON format.\n"
     ]
    }
   ],
   "source": [
    "#16. Write a program that handles exceptions while parsing JSON.\n",
    "import json\n",
    "class JSONParseError(Exception):\n",
    "    pass\n",
    "def parse_json(json_string):\n",
    "    try:\n",
    "        data = json.loads(json_string)\n",
    "        return data\n",
    "    except json.JSONDecodeError:\n",
    "        raise JSONParseError(\"Error: Invalid JSON format.\")\n",
    "# Example usage\n",
    "json_string = '{\"name\": \"John\", \"age\": 30'  \n",
    "try:\n",
    "    print(parse_json(json_string))\n",
    "except JSONParseError as e:\n",
    "    print(e)\n",
    "\n",
    "\n",
    "    ## '{\"name\": \"John\", \"age\": 30'    # Invalid JSON\n",
    "    ## '{\"name\": \"John\", \"age\": 30}'   # Valid JSON\n"
   ]
  },
  {
   "cell_type": "code",
   "execution_count": 12,
   "id": "2bb09688",
   "metadata": {},
   "outputs": [
    {
     "name": "stdout",
     "output_type": "stream",
     "text": [
      "Error: Division by zero is not allowed. Please try again.\n",
      "Error: Invalid input. Please enter valid numbers.\n",
      "Error: Division by zero is not allowed. Please try again.\n",
      "Error: Maximum attempts reached. Division failed.\n"
     ]
    }
   ],
   "source": [
    "# 17.Write a program to retry dividing two numbers 3 times if an error occurs.\n",
    "def division():\n",
    "    attempts = 0\n",
    "    while attempts < 3:\n",
    "        try:\n",
    "            num1 = float(input(\"Enter first number: \"))\n",
    "            num2 = float(input(\"Enter second number: \"))\n",
    "            result = num1 / num2\n",
    "        except ZeroDivisionError:\n",
    "            print(\"Error: Division by zero is not allowed. Please try again.\")\n",
    "        except ValueError:\n",
    "            print(\"Error: Invalid input. Please enter valid numbers.\")\n",
    "        else:\n",
    "            return f\"Result: {result}\"\n",
    "        attempts += 1\n",
    "    return \"Error: Maximum attempts reached. Division failed.\"\n",
    "\n",
    "\n",
    "print(division())\n"
   ]
  },
  {
   "cell_type": "code",
   "execution_count": 19,
   "id": "d08d99d3",
   "metadata": {},
   "outputs": [
    {
     "name": "stdout",
     "output_type": "stream",
     "text": [
      "Error: Number must be positive.\n"
     ]
    }
   ],
   "source": [
    "#18.Write a program that uses assert to validate positive numbers and handle AssertionError.\n",
    "def validate_positive_number():\n",
    "    try:\n",
    "        num = float(input(\"Enter a positive number: \"))\n",
    "        assert num > 0, \"Error: Number must be positive.\"\n",
    "        return f\"{num} is a positive number.\"\n",
    "    except AssertionError as e:\n",
    "        return e\n",
    "print(validate_positive_number())"
   ]
  },
  {
   "cell_type": "code",
   "execution_count": null,
   "id": "a7c54acd",
   "metadata": {},
   "outputs": [],
   "source": []
  },
  {
   "cell_type": "code",
   "execution_count": null,
   "id": "58ef5d99",
   "metadata": {},
   "outputs": [],
   "source": []
  },
  {
   "cell_type": "code",
   "execution_count": null,
   "id": "70c37852",
   "metadata": {},
   "outputs": [],
   "source": []
  }
 ],
 "metadata": {
  "kernelspec": {
   "display_name": "Python 3",
   "language": "python",
   "name": "python3"
  },
  "language_info": {
   "codemirror_mode": {
    "name": "ipython",
    "version": 3
   },
   "file_extension": ".py",
   "mimetype": "text/x-python",
   "name": "python",
   "nbconvert_exporter": "python",
   "pygments_lexer": "ipython3",
   "version": "3.13.5"
  }
 },
 "nbformat": 4,
 "nbformat_minor": 5
}
