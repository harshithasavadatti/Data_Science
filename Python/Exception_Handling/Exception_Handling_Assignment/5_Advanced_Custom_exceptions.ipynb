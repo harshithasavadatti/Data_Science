{
 "cells": [
  {
   "cell_type": "markdown",
   "id": "0f8e1110",
   "metadata": {},
   "source": [
    "Advanced Custom Exception"
   ]
  },
  {
   "cell_type": "code",
   "execution_count": null,
   "id": "e4fb7852",
   "metadata": {},
   "outputs": [
    {
     "name": "stdout",
     "output_type": "stream",
     "text": [
      "Bank error: Insufficient funds! Balance: 100\n",
      "Bank error: Account 200 does not exist.\n"
     ]
    }
   ],
   "source": [
    "#41.Write a program to create a hierarchy of custom exceptions for banking (BankError, InsufficientFunds, InvalidAccount):\n",
    "class BankError(Exception):\n",
    "    pass\n",
    "\n",
    "class InsufficientFunds(BankError):\n",
    "    pass\n",
    "\n",
    "class InvalidAccount(BankError):\n",
    "    pass\n",
    "\n",
    "def withdraw(balance, amount):\n",
    "    if amount > balance:\n",
    "        raise InsufficientFunds(f\"Insufficient funds! Balance: {balance}\")\n",
    "    print(f\"Withdrawal successful! Remaining balance: {balance - amount}\")\n",
    "\n",
    "def access_account(account_number):\n",
    "    valid_accounts = [101, 102, 103]\n",
    "    if account_number not in valid_accounts:\n",
    "        raise InvalidAccount(f\"Account {account_number} does not exist.\")\n",
    "    print(f\"Accessing account {account_number}...\")\n",
    "\n",
    "try:\n",
    "    withdraw(100, 150)  # triggers InsufficientFunds\n",
    "except BankError as e:  # catches any BankError subclass\n",
    "    print(f\"Bank error: {e}\")\n",
    "\n",
    "try:\n",
    "    access_account(200)  # triggers InvalidAccount\n",
    "except BankError as e:  # catches any BankError subclass\n",
    "    print(f\"Bank error: {e}\")\n",
    "\n"
   ]
  },
  {
   "cell_type": "code",
   "execution_count": 6,
   "id": "91c82be8",
   "metadata": {},
   "outputs": [
    {
     "name": "stdout",
     "output_type": "stream",
     "text": [
      "Strong password!\n"
     ]
    }
   ],
   "source": [
    "#42:Write a program that raises a custom exception when user enters a weak password.\n",
    "class WeakPasswordError(Exception):\n",
    "    pass\n",
    "\n",
    "def check_password_strength(password):\n",
    "    if len(password) < 8:\n",
    "        raise WeakPasswordError(\"Password must be at least 8 characters long\")\n",
    "    if not any(char.isdigit() for char in password):\n",
    "        raise WeakPasswordError(\"Password must contain at least one digit\")\n",
    "    if not any(char.isupper() for char in password):\n",
    "        raise WeakPasswordError(\"Password must contain at least one uppercase letter\")\n",
    "    if not any(char.islower() for char in password):\n",
    "        raise WeakPasswordError(\"Password must contain at least one lowercase letter\")\n",
    "    if not any(char in \"!@#$%^&*\" for char in password):\n",
    "        raise WeakPasswordError(\"Password must contain at least one special character (!@#$%^&*)\")\n",
    "    return True\n",
    "\n",
    "try:\n",
    "    password = input(\"Enter your password: \")\n",
    "    check_password_strength(password)\n",
    "    print(\"Strong password!\")\n",
    "except WeakPasswordError as e:\n",
    "    print(f\"Weak password: {e}\")"
   ]
  },
  {
   "cell_type": "code",
   "execution_count": 9,
   "id": "e5a67fa8",
   "metadata": {},
   "outputs": [
    {
     "name": "stdout",
     "output_type": "stream",
     "text": [
      "Error: Laptop is out of stock!\n",
      "Error: Payment amount must be greater than zero.\n"
     ]
    }
   ],
   "source": [
    "#43.Write a program that handles multiple custom exceptions in an e-commerce system (OutOfStockError, PaymentFailedError).\n",
    "class OutOfStockError(Exception):\n",
    "    pass\n",
    "class PaymentFailedError(Exception):\n",
    "    pass\n",
    "class Product:\n",
    "    def __init__(self, name, stock):\n",
    "        self.name = name\n",
    "        self.stock = stock\n",
    "\n",
    "    def purchase(self, quantity):\n",
    "        if quantity > self.stock:\n",
    "            raise OutOfStockError(f\"{self.name} is out of stock!\")\n",
    "        self.stock -= quantity\n",
    "        print(f\"Purchased {quantity} of {self.name}. Remaining stock: {self.stock}\")\n",
    "def process_payment(amount):\n",
    "    if amount <= 0:\n",
    "        raise PaymentFailedError(\"Payment amount must be greater than zero.\")\n",
    "    print(f\"Payment of ${amount} processed successfully.\")\n",
    "product = Product(\"Laptop\", 5)\n",
    "try:\n",
    "    product.purchase(6)  # triggers OutOfStockError\n",
    "except OutOfStockError as e:\n",
    "    print(f\"Error: {e}\")\n",
    "try:\n",
    "    process_payment(-50)  # triggers PaymentFailedError\n",
    "except PaymentFailedError as e:\n",
    "    print(f\"Error: {e}\")"
   ]
  },
  {
   "cell_type": "code",
   "execution_count": 12,
   "id": "edb4c470",
   "metadata": {},
   "outputs": [
    {
     "name": "stdout",
     "output_type": "stream",
     "text": [
      "Training on row 1: features=[1, 2, 3], label=0\n",
      "Skipping row 2 due to error: Incorrect number of features\n",
      "Training on row 3: features=[6, 7, 8], label=0\n",
      "Skipping row 4 due to error: Label must be numeric\n"
     ]
    }
   ],
   "source": [
    "#44.Write a program to simulate exception handling in machine learning model training (skip invalid rows).\n",
    "# Simulated dataset\n",
    "dataset = [\n",
    "    {\"features\": [1, 2, 3], \"label\": 0},\n",
    "    {\"features\": [4, 5], \"label\": 1},       # Invalid: wrong number of features\n",
    "    {\"features\": [6, 7, 8], \"label\": 0},\n",
    "    {\"features\": [9, 10, 11], \"label\": \"A\"} # Invalid: label should be numeric\n",
    "]\n",
    "\n",
    "expected_feature_length = 3\n",
    "\n",
    "def train_model(data):\n",
    "    for row_number, row in enumerate(data, start=1):\n",
    "        try:\n",
    "            features = row[\"features\"]\n",
    "            label = row[\"label\"]\n",
    "\n",
    "            # Check for valid features\n",
    "            if len(features) != expected_feature_length:\n",
    "                raise ValueError(\"Incorrect number of features\")\n",
    "\n",
    "            # Check for numeric label\n",
    "            if not isinstance(label, (int, float)):\n",
    "                raise ValueError(\"Label must be numeric\")\n",
    "\n",
    "            # Simulate model training step\n",
    "            print(f\"Training on row {row_number}: features={features}, label={label}\")\n",
    "\n",
    "        except ValueError as e:\n",
    "            print(f\"Skipping row {row_number} due to error: {e}\")\n",
    "\n",
    "# Run the training simulation\n",
    "train_model(dataset)\n",
    "\n"
   ]
  },
  {
   "cell_type": "code",
   "execution_count": null,
   "id": "eda5308a",
   "metadata": {},
   "outputs": [
    {
     "name": "stdout",
     "output_type": "stream",
     "text": [
      "❌ Missing data found in columns: ['Name', 'Marks']\n"
     ]
    }
   ],
   "source": [
    "#45.Write a program that raises exceptions if missing values are detected in a dataset.\n",
    "import pandas as pd\n",
    "\n",
    "class MissingValueError(Exception):\n",
    "    pass\n",
    "\n",
    "def validate_missing_values(df):\n",
    "    if df.isnull().any().any():  \n",
    "        missing_columns = df.columns[df.isnull().any()].tolist()\n",
    "        raise MissingValueError(f\"❌ Missing data found in columns: {missing_columns}\")\n",
    "    else:\n",
    "        print(\"✅ All data present. No missing values!\")\n",
    "\n",
    "# Example dataset\n",
    "data = {\n",
    "    \"ID\": [1, 2, 3, 4],\n",
    "    \"Name\": [\"Alice\", None, \"Charlie\", \"David\"],\n",
    "    \"Marks\": [85, 90, None, 95]\n",
    "}\n",
    "\n",
    "df = pd.DataFrame(data)\n",
    "\n",
    "try:\n",
    "    validate_missing_values(df)\n",
    "except MissingValueError as e:\n",
    "    print(e)\n"
   ]
  },
  {
   "cell_type": "code",
   "execution_count": 21,
   "id": "ec4b0b0f",
   "metadata": {},
   "outputs": [],
   "source": [
    "#46.Write a program that handles exceptions while saving a model to disk\n",
    "#47.Write a program that catches exceptions during multi-threaded execution.\n",
    "#48.Write a program that demonstrates a global exception handler for a Python script."
   ]
  },
  {
   "cell_type": "code",
   "execution_count": 23,
   "id": "a7482e25",
   "metadata": {},
   "outputs": [
    {
     "name": "stdout",
     "output_type": "stream",
     "text": [
      "Valid file format\n",
      "Error: File must be .csv, .json or .xml\n",
      "Valid file format\n"
     ]
    }
   ],
   "source": [
    "#49.Write a program that raises custom exceptions for invalid file formats (.csv, .json, .xml).\n",
    "class InvalidFormatError(Exception):\n",
    "    pass\n",
    "\n",
    "def check_file(filename):\n",
    "    if not filename.endswith(('.csv', '.json', '.xml')):\n",
    "        raise InvalidFormatError(\"File must be .csv, .json or .xml\")\n",
    "    print(\"Valid file format\")\n",
    "\n",
    "# Test\n",
    "files = [\"data.csv\", \"image.png\", \"config.json\"]\n",
    "\n",
    "for file in files:\n",
    "    try:\n",
    "        check_file(file)\n",
    "    except InvalidFormatError as e:\n",
    "        print(f\"Error: {e}\")"
   ]
  },
  {
   "cell_type": "code",
   "execution_count": 33,
   "id": "5e6eda1e",
   "metadata": {},
   "outputs": [],
   "source": [
    "#50.Write a program to implement centralized exception logging for a Python application.\n",
    "import logging\n",
    "# Configure logging\n",
    "log_file = \"app.log\"\n",
    "logging.basicConfig(\n",
    "    filename=log_file,\n",
    "    level=logging.ERROR,\n",
    "    format='%(asctime)s - %(levelname)s - %(message)s'\n",
    ")   \n",
    "def divide(a, b):\n",
    "    return a / b\n",
    "def read_file(file_path):\n",
    "    with open(file_path, 'r') as file:\n",
    "        return file.read()\n",
    "# Test functions with exception handling and logging\n",
    "try:\n",
    "    result = divide(10, 0)  # This will raise ZeroDivisionError\n",
    "except Exception as e:\n",
    "    logging.error(f\"Error in divide function: {e}\")\n",
    "try:\n",
    "    content = read_file(\"file.txt\")  # This will raise FileNotFoundError\n",
    "except Exception as e:\n",
    "    logging.error(f\"Error in read_file function: {e}\")"
   ]
  }
 ],
 "metadata": {
  "kernelspec": {
   "display_name": "Python 3",
   "language": "python",
   "name": "python3"
  },
  "language_info": {
   "codemirror_mode": {
    "name": "ipython",
    "version": 3
   },
   "file_extension": ".py",
   "mimetype": "text/x-python",
   "name": "python",
   "nbconvert_exporter": "python",
   "pygments_lexer": "ipython3",
   "version": "3.13.5"
  }
 },
 "nbformat": 4,
 "nbformat_minor": 5
}
