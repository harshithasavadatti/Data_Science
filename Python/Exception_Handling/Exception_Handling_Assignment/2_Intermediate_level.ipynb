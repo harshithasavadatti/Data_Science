{
 "cells": [
  {
   "cell_type": "markdown",
   "id": "3869b83f",
   "metadata": {},
   "source": [
    "Intermediate Level \n"
   ]
  },
  {
   "cell_type": "code",
   "execution_count": 1,
   "id": "eafcf035",
   "metadata": {},
   "outputs": [
    {
     "name": "stdout",
     "output_type": "stream",
     "text": [
      "❌ Withdrawal of 6000 failed! Available balance: 5000\n"
     ]
    }
   ],
   "source": [
    "# 11. Write a function to withdraw money and raise an exception if balance < withdrawal.\n",
    "class InsufficientBalanceError(Exception):\n",
    "    pass\n",
    "def withdraw(balance, amount):\n",
    "    if amount > balance:\n",
    "        raise InsufficientBalanceError(f\"❌ Withdrawal of {amount} failed! Available balance: {balance}\")\n",
    "    balance -= amount\n",
    "    return f\"✅ Withdrawal of {amount} successful! Remaining balance: {balance}\"\n",
    "\n",
    "balance = int(input(\"Enter your current balance: \"))\n",
    "amount = int(input(\"Enter amount to withdraw: \"))\n",
    "try:\n",
    "    print(withdraw(balance, amount))\n",
    "except InsufficientBalanceError as e:\n",
    "    print(e)"
   ]
  },
  {
   "cell_type": "code",
   "execution_count": 2,
   "id": "a5e419b1",
   "metadata": {},
   "outputs": [
    {
     "name": "stdout",
     "output_type": "stream",
     "text": [
      "✅ Age validation successful! You are eligible.\n"
     ]
    }
   ],
   "source": [
    "#12.Write a function that validates age and raises an exception if age < 18.\n",
    "class ValidateAge(Exception):\n",
    "    pass\n",
    "def check_age(age):\n",
    "    if age < 18:\n",
    "        raise ValidateAge(\"❌ Age validation failed! Must be at least 18 years old.\")\n",
    "    else:\n",
    "        return \"✅ Age validation successful! You are eligible.\"\n",
    "    \n",
    "age = int(input(\"Enter your age: \"))\n",
    "try:\n",
    "    print(check_age(age))\n",
    "except ValidateAge as e:\n",
    "    print(e)\n",
    "    \n"
   ]
  },
  {
   "cell_type": "code",
   "execution_count": 3,
   "id": "8e45d17a",
   "metadata": {},
   "outputs": [
    {
     "name": "stdout",
     "output_type": "stream",
     "text": [
      "Valid email format.\n"
     ]
    }
   ],
   "source": [
    "# 13. Write a program to validate email format and raise a custom exception\n",
    "class InvalidEmailError(Exception):\n",
    "    pass    \n",
    "def validate_email(email):\n",
    "    if \"@\" not in email or \".\" not in email[email.index(\"@\"):]:\n",
    "        raise InvalidEmailError(\"Error: Invalid email format.\")\n",
    "    else:\n",
    "        return \"Valid email format.\"\n",
    "email = input(\"Enter your email: \")\n",
    "try:\n",
    "    print(validate_email(email))\n",
    "except InvalidEmailError as e:\n",
    "    print(e)"
   ]
  },
  {
   "cell_type": "code",
   "execution_count": 4,
   "id": "ea619dad",
   "metadata": {},
   "outputs": [],
   "source": [
    "# using regex \n",
    "# import re\n",
    "\n",
    "# # Custom exception\n",
    "# class InvalidEmailError(Exception):\n",
    "#     pass    \n",
    "\n",
    "# def validate_email(email):\n",
    "#     # Regex for strict email validation\n",
    "#     pattern = r'^[A-Za-z0-9._%+-]+@[A-Za-z0-9.-]+\\.[A-Za-z]{2,}$'\n",
    "    \n",
    "#     if not re.match(pattern, email):\n",
    "#         raise InvalidEmailError(\"Error: Invalid email format.\")\n",
    "    \n",
    "#     return \"Valid email format.\"\n",
    "\n",
    "# # Example usage\n",
    "# email = input(\"Enter your email: \")\n",
    "# try:\n",
    "#     print(validate_email(email))\n",
    "# except InvalidEmailError as e:\n",
    "#     print(e)"
   ]
  },
  {
   "cell_type": "code",
   "execution_count": null,
   "id": "e1adf565",
   "metadata": {},
   "outputs": [
    {
     "ename": "NegativeNumberError",
     "evalue": "Error: Cannot compute square root of a negative number.",
     "output_type": "error",
     "traceback": [
      "\u001b[31m---------------------------------------------------------------------------\u001b[39m",
      "\u001b[31mNegativeNumberError\u001b[39m                       Traceback (most recent call last)",
      "\u001b[36mCell\u001b[39m\u001b[36m \u001b[39m\u001b[32mIn[5]\u001b[39m\u001b[32m, line 10\u001b[39m\n\u001b[32m      8\u001b[39m     \u001b[38;5;28;01melse\u001b[39;00m:\n\u001b[32m      9\u001b[39m         \u001b[38;5;28;01mreturn\u001b[39;00m \u001b[38;5;28mpow\u001b[39m(num, \u001b[32m0.5\u001b[39m)\n\u001b[32m---> \u001b[39m\u001b[32m10\u001b[39m \u001b[38;5;28mprint\u001b[39m(\u001b[43msquare_root\u001b[49m\u001b[43m(\u001b[49m\u001b[43m-\u001b[49m\u001b[32;43m1\u001b[39;49m\u001b[43m)\u001b[49m)\n",
      "\u001b[36mCell\u001b[39m\u001b[36m \u001b[39m\u001b[32mIn[5]\u001b[39m\u001b[32m, line 7\u001b[39m, in \u001b[36msquare_root\u001b[39m\u001b[34m(num)\u001b[39m\n\u001b[32m      5\u001b[39m \u001b[38;5;28;01mdef\u001b[39;00m\u001b[38;5;250m \u001b[39m\u001b[34msquare_root\u001b[39m(num):\n\u001b[32m      6\u001b[39m     \u001b[38;5;28;01mif\u001b[39;00m num < \u001b[32m0\u001b[39m:\n\u001b[32m----> \u001b[39m\u001b[32m7\u001b[39m         \u001b[38;5;28;01mraise\u001b[39;00m NegativeNumberError(\u001b[33m\"\u001b[39m\u001b[33mError: Cannot compute square root of a negative number.\u001b[39m\u001b[33m\"\u001b[39m)\n\u001b[32m      8\u001b[39m     \u001b[38;5;28;01melse\u001b[39;00m:\n\u001b[32m      9\u001b[39m         \u001b[38;5;28;01mreturn\u001b[39;00m \u001b[38;5;28mpow\u001b[39m(num, \u001b[32m0.5\u001b[39m)\n",
      "\u001b[31mNegativeNumberError\u001b[39m: Error: Cannot compute square root of a negative number."
     ]
    }
   ],
   "source": [
    "#14 .Write a custom exception NegativeNumberError and use it in a square root function.\n",
    "import math\n",
    "class NegativeNumberError(Exception):\n",
    "    pass\n",
    "def square_root(num):\n",
    "    if num < 0:\n",
    "        raise NegativeNumberError(\"Error: Cannot compute square root of a negative number.\")\n",
    "    else:\n",
    "        return pow(num, 0.5)\n",
    "print(square_root(-1))"
   ]
  },
  {
   "cell_type": "code",
   "execution_count": 6,
   "id": "067e81d9",
   "metadata": {},
   "outputs": [
    {
     "name": "stdout",
     "output_type": "stream",
     "text": [
      "Error: Insufficient funds for this withdrawal.\n"
     ]
    }
   ],
   "source": [
    "#15 .Write a custom exception for InsufficientFundsError in a banking system.\n",
    "class InsufficientFundsError(Exception):\n",
    "    pass\n",
    "def withdraw_funds(balance, amount):\n",
    "    if amount > balance:\n",
    "        raise InsufficientFundsError(\"Error: Insufficient funds for this withdrawal.\")\n",
    "    else:\n",
    "        balance -= amount\n",
    "        return balance\n",
    "\n",
    "balance = int(input(\"Enter your current balance: \"))\n",
    "amount = int(input(\"Enter amount to withdraw: \"))\n",
    "try:\n",
    "    new_balance = withdraw_funds(balance, amount)\n",
    "    print(f\"Withdrawal successful! New balance: {new_balance}\") \n",
    "except InsufficientFundsError as e:\n",
    "    print(e)\n",
    "    "
   ]
  },
  {
   "cell_type": "code",
   "execution_count": 8,
   "id": "5f08115a",
   "metadata": {},
   "outputs": [
    {
     "name": "stdout",
     "output_type": "stream",
     "text": [
      "Error: Invalid JSON format.\n"
     ]
    }
   ],
   "source": [
    "#16. Write a program that handles exceptions while parsing JSON.\n",
    "import json\n",
    "class JSONParseError(Exception):\n",
    "    pass\n",
    "def parse_json(json_string):\n",
    "    try:\n",
    "        data = json.loads(json_string)\n",
    "        return data\n",
    "    except json.JSONDecodeError:\n",
    "        raise JSONParseError(\"Error: Invalid JSON format.\")\n",
    "# Example usage\n",
    "json_string = '{\"name\": \"John\", \"age\": 30'  \n",
    "try:\n",
    "    print(parse_json(json_string))\n",
    "except JSONParseError as e:\n",
    "    print(e)\n",
    "\n",
    "\n",
    "    ## '{\"name\": \"John\", \"age\": 30'    # Invalid JSON\n",
    "    ## '{\"name\": \"John\", \"age\": 30}'   # Valid JSON\n"
   ]
  },
  {
   "cell_type": "code",
   "execution_count": 9,
   "id": "36c4c720",
   "metadata": {},
   "outputs": [
    {
     "name": "stdout",
     "output_type": "stream",
     "text": [
      "Error: Division by zero is not allowed. Please try again.\n",
      "Error: Division by zero is not allowed. Please try again.\n",
      "Result: 0.6666666666666666\n"
     ]
    }
   ],
   "source": [
    "# 17.Write a program to retry dividing two numbers 3 times if an error occurs.\n",
    "def division():\n",
    "    attempts = 0\n",
    "    while attempts < 3:\n",
    "        try:\n",
    "            num1 = float(input(\"Enter first number: \"))\n",
    "            num2 = float(input(\"Enter second number: \"))\n",
    "            result = num1 / num2\n",
    "        except ZeroDivisionError:\n",
    "            print(\"Error: Division by zero is not allowed. Please try again.\")\n",
    "        except ValueError:\n",
    "            print(\"Error: Invalid input. Please enter valid numbers.\")\n",
    "        else:\n",
    "            return f\"Result: {result}\"\n",
    "        attempts += 1\n",
    "    return \"Error: Maximum attempts reached. Division failed.\"\n",
    "\n",
    "\n",
    "print(division())\n"
   ]
  },
  {
   "cell_type": "code",
   "execution_count": 10,
   "id": "de0863ea",
   "metadata": {},
   "outputs": [
    {
     "name": "stdout",
     "output_type": "stream",
     "text": [
      "Error: Number must be positive.\n"
     ]
    }
   ],
   "source": [
    "#18.Write a program that uses assert to validate positive numbers and handle AssertionError.\n",
    "def validate_positive_number():\n",
    "    try:\n",
    "        num = float(input(\"Enter a positive number: \"))\n",
    "        assert num > 0, \"Error: Number must be positive.\"\n",
    "        return f\"{num} is a positive number.\"\n",
    "    except AssertionError as e:\n",
    "        return e\n",
    "print(validate_positive_number())"
   ]
  },
  {
   "cell_type": "code",
   "execution_count": 2,
   "id": "067cddc2",
   "metadata": {},
   "outputs": [
    {
     "name": "stdout",
     "output_type": "stream",
     "text": [
      "✅ Parsed JSON successfully!\n",
      "{'name': 'Flins', 'age': 500}\n"
     ]
    }
   ],
   "source": [
    "#19.Write a program that logs exceptions to a file using logging module.\n",
    "import logging\n",
    "import json\n",
    "\n",
    "# Configure logging\n",
    "logging.basicConfig(\n",
    "    filename='app1.log',\n",
    "    filemode='w',  # overwrite or 'a' for append\n",
    "    format='%(asctime)s - %(levelname)s - %(message)s',\n",
    "    level=logging.ERROR\n",
    ")\n",
    "\n",
    "def parse_json_with_logging():\n",
    "    try:\n",
    "        json_string = input(\"Enter a JSON string: \")\n",
    "        data = json.loads(json_string)\n",
    "        print(\"✅ Parsed JSON successfully!\")\n",
    "        print(data)\n",
    "\n",
    "    except json.JSONDecodeError as e:\n",
    "        logging.exception(\"JSONDecodeError occurred while parsing JSON.\")\n",
    "        print(\"❌ Error: Invalid JSON format. Check 'app1.log' for details.\")\n",
    "\n",
    "    except Exception as e:\n",
    "        logging.exception(\"Unexpected error occurred while parsing JSON.\")\n",
    "        print(\"❌ Error: Something went wrong. Check 'app1.log' for details.\")\n",
    "\n",
    "parse_json_with_logging()\n"
   ]
  },
  {
   "cell_type": "code",
   "execution_count": 23,
   "id": "af6c76dd",
   "metadata": {},
   "outputs": [
    {
     "name": "stdout",
     "output_type": "stream",
     "text": [
      "Credentials are valid.\n"
     ]
    }
   ],
   "source": [
    "#20.Write a program that raises multiple custom exceptions (InvalidPasswordError, InvalidUsernameError).\n",
    "class InvalidPasswordError(Exception):\n",
    "    pass\n",
    "class InvalidUsernameError(Exception):\n",
    "    pass    \n",
    "def validate_credentials(username, password):\n",
    "    if len(username) < 5:\n",
    "        raise InvalidUsernameError(\"Error: Username must be at least 5 characters long.\")\n",
    "    if len(password) < 8 or not any(char.isdigit() for char in password):\n",
    "        raise InvalidPasswordError(\"Error: Password must be at least 8 characters long and contain a number.\")\n",
    "    return \"Credentials are valid.\"\n",
    "username = input(\"Enter username: \")\n",
    "password = input(\"Enter password: \")\n",
    "try:\n",
    "    print(validate_credentials(username, password))\n",
    "except (InvalidUsernameError, InvalidPasswordError) as e:\n",
    "    print(e)\n",
    "\n"
   ]
  }
 ],
 "metadata": {
  "kernelspec": {
   "display_name": "Python 3",
   "language": "python",
   "name": "python3"
  },
  "language_info": {
   "codemirror_mode": {
    "name": "ipython",
    "version": 3
   },
   "file_extension": ".py",
   "mimetype": "text/x-python",
   "name": "python",
   "nbconvert_exporter": "python",
   "pygments_lexer": "ipython3",
   "version": "3.13.5"
  }
 },
 "nbformat": 4,
 "nbformat_minor": 5
}
