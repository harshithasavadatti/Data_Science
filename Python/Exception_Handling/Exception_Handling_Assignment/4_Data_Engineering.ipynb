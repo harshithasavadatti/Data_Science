{
 "cells": [
  {
   "cell_type": "markdown",
   "id": "80042a35",
   "metadata": {},
   "source": [
    "Data Engineering / Real-World Scenarios"
   ]
  },
  {
   "cell_type": "code",
   "execution_count": 4,
   "id": "71bf6f9f",
   "metadata": {},
   "outputs": [
    {
     "name": "stdout",
     "output_type": "stream",
     "text": [
      "❌ The data file 'data.txt' is missing!\n"
     ]
    }
   ],
   "source": [
    "#31.Write a program that raises a custom exception if a data file is missing.\n",
    "import os\n",
    "\n",
    "class DataFileMissingError(Exception):\n",
    "    pass\n",
    "\n",
    "def check_file(file_path):\n",
    "    if not os.path.exists(file_path):\n",
    "        raise DataFileMissingError(f\"The data file '{file_path}' is missing!\")\n",
    "    print(f\"✅ File '{file_path}' found.\")\n",
    "\n",
    "\n",
    "try:\n",
    "    file_path = \"data.txt\"  \n",
    "    check_file(file_path)\n",
    "except DataFileMissingError as e:\n",
    "    print(f\"❌ {e}\")\n",
    "\n"
   ]
  },
  {
   "cell_type": "code",
   "execution_count": 9,
   "id": "ef6f1d3b",
   "metadata": {},
   "outputs": [
    {
     "name": "stdout",
     "output_type": "stream",
     "text": [
      "❌ Schema mismatch detected!\n"
     ]
    }
   ],
   "source": [
    "#32.Write a program that raises exceptions when schema mismatch occurs in a dataset.\n",
    "class SchemaMismatchError(Exception):\n",
    "    pass\n",
    "\n",
    "def check_schema(data, expected_columns):\n",
    "    if list(data[0].keys()) != expected_columns:\n",
    "        raise SchemaMismatchError(\"Schema mismatch detected!\")\n",
    "    print(\"✅ Schema is correct.\")\n",
    "\n",
    "# Example usage\n",
    "dataset = [\n",
    "    {\"id\": 1, \"fullname\": \"Alice\", \"age\": 25},\n",
    "    {\"id\": 2, \"fullname\": \"Bob\", \"age\": 30}\n",
    "]\n",
    "\n",
    "expected_columns = [\"id\", \"name\", \"age\"]\n",
    "\n",
    "try:\n",
    "    check_schema(dataset, expected_columns)\n",
    "except SchemaMismatchError as e:\n",
    "    print(f\"❌ {e}\")\n"
   ]
  },
  {
   "cell_type": "code",
   "execution_count": 12,
   "id": "48b015c9",
   "metadata": {},
   "outputs": [
    {
     "name": "stdout",
     "output_type": "stream",
     "text": [
      "Row 1: Age = 25\n",
      "Row 2: ❌ Key 'age' is missing!\n",
      "Row 3: Age = 30\n"
     ]
    }
   ],
   "source": [
    "#33.Write a program that handles KeyError while accessing dictionary values in a dataset.\n",
    "# Example dataset\n",
    "dataset = [\n",
    "    {\"id\": 1, \"name\": \"Alice\", \"age\": 25},\n",
    "    {\"id\": 2, \"name\": \"Bob\"},  # 'age' key is missing\n",
    "    {\"id\": 3, \"name\": \"Charlie\", \"age\": 30}\n",
    "]\n",
    "\n",
    "for row_number, row in enumerate(dataset, start=1):\n",
    "    try:\n",
    "        age = row[\"age\"]\n",
    "        print(f\"Row {row_number}: Age = {age}\")\n",
    "    except KeyError:\n",
    "        print(f\"Row {row_number}: ❌ Key 'age' is missing!\")\n"
   ]
  },
  {
   "cell_type": "code",
   "execution_count": null,
   "id": "a24020ae",
   "metadata": {},
   "outputs": [],
   "source": [
    "# 34.Write a program to simulate ETL pipeline exception handling (Extract → Transform → Load).\n",
    "# 35.Write a program to catch exceptions while reading data from an API.\n",
    "# 36.Write a program to handle exceptions while connecting to Azure Blob Storage (mocked)."
   ]
  },
  {
   "cell_type": "code",
   "execution_count": 18,
   "id": "9a193572",
   "metadata": {},
   "outputs": [
    {
     "name": "stdout",
     "output_type": "stream",
     "text": [
      "JSON loaded successfully: {'name': 'John', 'age': 30, 'city': 'New York'}\n"
     ]
    }
   ],
   "source": [
    "#37.Write a program that handles exceptions when reading from a corrupted JSON file.\n",
    "import json\n",
    "\n",
    "def read_json_file(filename):\n",
    "    try:\n",
    "        with open(filename, 'r') as file:\n",
    "            data = json.load(file)\n",
    "        return data\n",
    "    except FileNotFoundError:\n",
    "        print(f\"Error: File '{filename}' not found\")\n",
    "    except json.JSONDecodeError as e:\n",
    "        print(f\"Error: Invalid JSON format - {e}\")\n",
    "    except PermissionError:\n",
    "        print(f\"Error: No permission to read '{filename}'\")\n",
    "    except Exception as e:\n",
    "        print(f\"Error: {e}\")\n",
    "    return None\n",
    "\n",
    "# Example usage\n",
    "data = read_json_file(\"corrupted_data.json\")\n",
    "if data:\n",
    "    print(\"JSON loaded successfully:\", data)"
   ]
  },
  {
   "cell_type": "code",
   "execution_count": null,
   "id": "9e546dee",
   "metadata": {},
   "outputs": [
    {
     "name": "stdout",
     "output_type": "stream",
     "text": [
      "❌ Duplicate data found: 2\n"
     ]
    }
   ],
   "source": [
    "#38.Write a program that raises an exception when duplicate data is found in a dataset\n",
    "class DuplicateDataError(Exception):\n",
    "    pass\n",
    "def check_duplicates(data):\n",
    "    seen = set()\n",
    "    for item in data:\n",
    "        if item in seen:\n",
    "            raise DuplicateDataError(f\"Duplicate data found: {item}\")\n",
    "        seen.add(item)\n",
    "    print(\"✅ No duplicates found.\")\n",
    "# Example usage\n",
    "dataset = [1, 2, 3, 4, 2]  \n",
    "try:\n",
    "    check_duplicates(dataset)   \n",
    "except DuplicateDataError as e:\n",
    "    print(f\"❌ {e}\")\n"
   ]
  },
  {
   "cell_type": "code",
   "execution_count": 20,
   "id": "5fe8b202",
   "metadata": {},
   "outputs": [
    {
     "name": "stdout",
     "output_type": "stream",
     "text": [
      "❌ Integrity Error: UNIQUE constraint failed: users.id\n"
     ]
    }
   ],
   "source": [
    "#39.Write a program to catch exceptions while writing data into SQL database.\n",
    "import sqlite3\n",
    "def write_to_db(data):\n",
    "    try:\n",
    "        conn = sqlite3.connect('example.db')\n",
    "        cursor = conn.cursor()\n",
    "        cursor.execute('''CREATE TABLE IF NOT EXISTS users (id INTEGER PRIMARY KEY, name TEXT)''')\n",
    "        cursor.executemany('INSERT INTO users (id, name) VALUES (?, ?)', data)\n",
    "        conn.commit()\n",
    "        print(\"✅ Data written to database successfully.\")\n",
    "    except sqlite3.IntegrityError as e:\n",
    "        print(f\"❌ Integrity Error: {e}\")\n",
    "    except sqlite3.OperationalError as e:\n",
    "        print(f\"❌ Operational Error: {e}\")\n",
    "    except Exception as e:\n",
    "        print(f\"❌ An error occurred: {e}\")\n",
    "    finally:\n",
    "        conn.close()\n",
    "# Example usage\n",
    "data = [(1, 'Alice'), (2, 'Bob'), (1, 'Charlie')]  # Duplicate ID to trigger IntegrityError\n",
    "write_to_db(data)   \n"
   ]
  },
  {
   "cell_type": "code",
   "execution_count": null,
   "id": "c16d6e7a",
   "metadata": {},
   "outputs": [],
   "source": [
    "#40.Write a program that retries failed API requests 3 times using exception handling."
   ]
  }
 ],
 "metadata": {
  "kernelspec": {
   "display_name": "Python 3",
   "language": "python",
   "name": "python3"
  },
  "language_info": {
   "codemirror_mode": {
    "name": "ipython",
    "version": 3
   },
   "file_extension": ".py",
   "mimetype": "text/x-python",
   "name": "python",
   "nbconvert_exporter": "python",
   "pygments_lexer": "ipython3",
   "version": "3.13.5"
  }
 },
 "nbformat": 4,
 "nbformat_minor": 5
}
