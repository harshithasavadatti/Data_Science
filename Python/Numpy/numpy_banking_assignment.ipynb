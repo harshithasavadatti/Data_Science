{
 "cells": [
  {
   "cell_type": "code",
   "execution_count": 3,
   "id": "63521344",
   "metadata": {},
   "outputs": [],
   "source": [
    "import numpy as np"
   ]
  },
  {
   "cell_type": "code",
   "execution_count": 156,
   "id": "d9469251",
   "metadata": {},
   "outputs": [
    {
     "name": "stdout",
     "output_type": "stream",
     "text": [
      "[[  101 10000   720    45     5]\n",
      " [  102  8500   680    30     3]\n",
      " [  103 12000   750    60     7]\n",
      " [  104  5000   640    20     2]\n",
      " [  105  9500   700    40     4]\n",
      " [  106 15000   780    75     8]\n",
      " [  107  3000   610    15     1]\n",
      " [  108 11000   730    55     6]\n",
      " [  109  4000   650    25     2]\n",
      " [  110  9000   690    35     3]]\n"
     ]
    }
   ],
   "source": [
    "#Banking Industry data with 10 rows * 5 columns\n",
    "#Columns : Customer_ID, Account_Balance, Credit_Score, Transaction_Count, Years_Active\n",
    "banking_data = np.array([\n",
    "    [101, 10000, 720, 45, 5],\n",
    "    [102,  8500, 680, 30, 3],\n",
    "    [103, 12000, 750, 60, 7],\n",
    "    [104,  5000, 640, 20, 2],\n",
    "    [105,  9500, 700, 40, 4],\n",
    "    [106, 15000, 780, 75, 8],\n",
    "    [107,  3000, 610, 15, 1],\n",
    "    [108, 11000, 730, 55, 6],\n",
    "    [109,  4000, 650, 25, 2],\n",
    "    [110,  9000, 690, 35, 3]\n",
    "])\n",
    "print(banking_data)"
   ]
  },
  {
   "cell_type": "code",
   "execution_count": null,
   "id": "215f69ba",
   "metadata": {},
   "outputs": [
    {
     "name": "stdout",
     "output_type": "stream",
     "text": [
      "Data shape: (10, 5)\n",
      "Data type: int64\n"
     ]
    }
   ],
   "source": [
    "print(f\"Data shape: {banking_data.shape}\")\n",
    "print(f\"Data type: {banking_data.dtype}\")"
   ]
  },
  {
   "cell_type": "markdown",
   "id": "9db485c9",
   "metadata": {},
   "source": [
    "Question 1: Array Creation and Manipulation\n"
   ]
  },
  {
   "cell_type": "code",
   "execution_count": 10,
   "id": "1651690f",
   "metadata": {},
   "outputs": [
    {
     "name": "stdout",
     "output_type": "stream",
     "text": [
      "[[1. 0. 0. 0.]\n",
      " [0. 1. 0. 0.]\n",
      " [0. 0. 1. 0.]\n",
      " [0. 0. 0. 1.]]\n"
     ]
    }
   ],
   "source": [
    "#Q1.1: Create a 4x4 identity matrix using np.eye()\n",
    "identity_matrix = np.eye(4)\n",
    "print(identity_matrix)"
   ]
  },
  {
   "cell_type": "code",
   "execution_count": 13,
   "id": "78ab09f5",
   "metadata": {},
   "outputs": [
    {
     "name": "stdout",
     "output_type": "stream",
     "text": [
      "[0. 0. 0. 0. 0. 0. 0. 0.]\n"
     ]
    }
   ],
   "source": [
    "#Q1.2: Create an array of 8 zeros using np.zeros()\n",
    "zero_array  = np.zeros(8)\n",
    "print(zero_array)"
   ]
  },
  {
   "cell_type": "code",
   "execution_count": 14,
   "id": "873b8f11",
   "metadata": {},
   "outputs": [
    {
     "name": "stdout",
     "output_type": "stream",
     "text": [
      "[1. 1. 1. 1. 1. 1.]\n"
     ]
    }
   ],
   "source": [
    "#Q1.3: Create an array of 6 ones using np.ones()\n",
    "ones_array = np.ones(6)\n",
    "print(ones_array)"
   ]
  },
  {
   "cell_type": "code",
   "execution_count": 17,
   "id": "cff097d6",
   "metadata": {},
   "outputs": [
    {
     "name": "stdout",
     "output_type": "stream",
     "text": [
      "[ 0  1  2  3  4  5  6  7  8  9 10 11 12 13 14]\n"
     ]
    }
   ],
   "source": [
    "#Q1.4: Create an array with values from 0 to 15 using np.arange()\n",
    "array1 = np.arange(0,15)\n",
    "print(array1)"
   ]
  },
  {
   "cell_type": "code",
   "execution_count": 18,
   "id": "48b7bb5f",
   "metadata": {},
   "outputs": [
    {
     "name": "stdout",
     "output_type": "stream",
     "text": [
      "[  0.          14.28571429  28.57142857  42.85714286  57.14285714\n",
      "  71.42857143  85.71428571 100.        ]\n"
     ]
    }
   ],
   "source": [
    "#Q1.5: Create an array with 8 evenly spaced values from 0 to 100 using np.linspace()\n",
    "array2 = np.linspace(0,100,8)\n",
    "print(array2)"
   ]
  },
  {
   "cell_type": "markdown",
   "id": "76229418",
   "metadata": {},
   "source": [
    "Question 2: Array Attributes and Information\n",
    "\n"
   ]
  },
  {
   "cell_type": "code",
   "execution_count": 19,
   "id": "cfec6ebf",
   "metadata": {},
   "outputs": [
    {
     "name": "stdout",
     "output_type": "stream",
     "text": [
      "(10, 5)\n"
     ]
    }
   ],
   "source": [
    "#Q2.1: What is the shape of the banking_data array?\n",
    "print(banking_data.shape)"
   ]
  },
  {
   "cell_type": "code",
   "execution_count": 20,
   "id": "8bde84db",
   "metadata": {},
   "outputs": [
    {
     "name": "stdout",
     "output_type": "stream",
     "text": [
      "int64\n"
     ]
    }
   ],
   "source": [
    "#Q2.1: What is the shape of the banking_data array?\n",
    "print(banking_data.dtype)"
   ]
  },
  {
   "cell_type": "code",
   "execution_count": 22,
   "id": "484a55e9",
   "metadata": {},
   "outputs": [
    {
     "name": "stdout",
     "output_type": "stream",
     "text": [
      "50\n"
     ]
    }
   ],
   "source": [
    "#Q2.3: What is the size (total number of elements) of the banking_data array?\n",
    "print(banking_data.size)"
   ]
  },
  {
   "cell_type": "code",
   "execution_count": 24,
   "id": "52344f30",
   "metadata": {},
   "outputs": [
    {
     "name": "stdout",
     "output_type": "stream",
     "text": [
      "2\n"
     ]
    }
   ],
   "source": [
    "#Q2.4: What is the number of dimensions of the banking_data array?\n",
    "print(banking_data.ndim)"
   ]
  },
  {
   "cell_type": "code",
   "execution_count": 25,
   "id": "e030d685",
   "metadata": {},
   "outputs": [
    {
     "name": "stdout",
     "output_type": "stream",
     "text": [
      "400\n"
     ]
    }
   ],
   "source": [
    "#Q2.5: What is the memory size of the banking_data array in bytes?\n",
    "print(banking_data.nbytes)"
   ]
  },
  {
   "cell_type": "markdown",
   "id": "274ca812",
   "metadata": {},
   "source": [
    "Question 3: Indexing and Slicing\n"
   ]
  },
  {
   "cell_type": "code",
   "execution_count": 27,
   "id": "1b9f41ff",
   "metadata": {},
   "outputs": [
    {
     "name": "stdout",
     "output_type": "stream",
     "text": [
      "[  101 10000   720    45     5]\n"
     ]
    }
   ],
   "source": [
    "#Q3.1: Extract the first row of banking_data\n",
    "print(banking_data[0])"
   ]
  },
  {
   "cell_type": "code",
   "execution_count": 30,
   "id": "f468b7f4",
   "metadata": {},
   "outputs": [
    {
     "name": "stdout",
     "output_type": "stream",
     "text": [
      "[ 110 9000  690   35    3]\n"
     ]
    }
   ],
   "source": [
    "#Q3.2: Extract the last row of banking_data\n",
    "print(banking_data[-1])  #print(banking_data[9])"
   ]
  },
  {
   "cell_type": "code",
   "execution_count": 37,
   "id": "c364da1a",
   "metadata": {},
   "outputs": [
    {
     "name": "stdout",
     "output_type": "stream",
     "text": [
      "[10000  8500 12000  5000  9500 15000  3000 11000  4000  9000]\n"
     ]
    }
   ],
   "source": [
    "#Q3.3: Extract the Account_Balance column (column index 1)\n",
    "print(banking_data[:,1])"
   ]
  },
  {
   "cell_type": "code",
   "execution_count": 41,
   "id": "66ce8e5c",
   "metadata": {},
   "outputs": [
    {
     "name": "stdout",
     "output_type": "stream",
     "text": [
      "[[  101 10000   720]\n",
      " [  102  8500   680]\n",
      " [  103 12000   750]\n",
      " [  104  5000   640]]\n"
     ]
    }
   ],
   "source": [
    "#Q3.4: Extract the first 4 rows and first 3 columns\n",
    "print(banking_data[:4,:3])"
   ]
  },
  {
   "cell_type": "code",
   "execution_count": 46,
   "id": "9574146a",
   "metadata": {},
   "outputs": [
    {
     "name": "stdout",
     "output_type": "stream",
     "text": [
      "[[  104  5000   640    20     2]\n",
      " [  105  9500   700    40     4]\n",
      " [  106 15000   780    75     8]\n",
      " [  107  3000   610    15     1]\n",
      " [  108 11000   730    55     6]]\n"
     ]
    }
   ],
   "source": [
    "#Q3.5: Extract rows 3 to 7 (inclusive)\n",
    "print(banking_data[3:8,])"
   ]
  },
  {
   "cell_type": "markdown",
   "id": "66433f2f",
   "metadata": {},
   "source": [
    "Question 4: Mathematical Operations\n"
   ]
  },
  {
   "cell_type": "code",
   "execution_count": 48,
   "id": "d3aa0136",
   "metadata": {},
   "outputs": [
    {
     "name": "stdout",
     "output_type": "stream",
     "text": [
      "Sum of account balances : 87000\n"
     ]
    }
   ],
   "source": [
    "#Q4.1: Calculate the sum of all account balances\n",
    "print(\"Sum of account balances :\",np.sum(banking_data[:,1]))"
   ]
  },
  {
   "cell_type": "code",
   "execution_count": 49,
   "id": "fabdfc65",
   "metadata": {},
   "outputs": [
    {
     "name": "stdout",
     "output_type": "stream",
     "text": [
      "Mean of account balance : 8700.0\n"
     ]
    }
   ],
   "source": [
    "#Q4.2: Calculate the mean account balance\n",
    "print(\"Mean of account balance :\", np.mean(banking_data[:,1]))"
   ]
  },
  {
   "cell_type": "code",
   "execution_count": 50,
   "id": "cac66494",
   "metadata": {},
   "outputs": [
    {
     "name": "stdout",
     "output_type": "stream",
     "text": [
      "Standard deviation of account balances : 3558.089374931439\n"
     ]
    }
   ],
   "source": [
    "#Q4.3: Calculate the standard deviation of account balances\n",
    "print(\"Standard deviation of account balances :\", np.std(banking_data[:,1]))"
   ]
  },
  {
   "cell_type": "code",
   "execution_count": 52,
   "id": "243b68a9",
   "metadata": {},
   "outputs": [
    {
     "name": "stdout",
     "output_type": "stream",
     "text": [
      "Variance of account balances : 12660000.0\n"
     ]
    }
   ],
   "source": [
    "#Q4.4: Calculate the variance of account balances\n",
    "print(\"Variance of account balances :\", np.var(banking_data[:,1]))"
   ]
  },
  {
   "cell_type": "code",
   "execution_count": 53,
   "id": "f3fcb47c",
   "metadata": {},
   "outputs": [
    {
     "name": "stdout",
     "output_type": "stream",
     "text": [
      "Median of account balances : 9250.0\n"
     ]
    }
   ],
   "source": [
    "#Q4.5: Calculate the median account balance\n",
    "print(\"Median of account balances :\", np.median(banking_data[:,1]))"
   ]
  },
  {
   "cell_type": "markdown",
   "id": "483b9db5",
   "metadata": {},
   "source": [
    "Question 5: Statistical Functions\n"
   ]
  },
  {
   "cell_type": "code",
   "execution_count": 60,
   "id": "0e8904c1",
   "metadata": {},
   "outputs": [
    {
     "name": "stdout",
     "output_type": "stream",
     "text": [
      "Minimum Account balance :$ 3000\n",
      "\n",
      "Maximum Account balance :$ 15000\n"
     ]
    }
   ],
   "source": [
    "#Q5.1: Find the minimum and maximum account balances\n",
    "print(\"Minimum Account balance :$\",np.min(banking_data[:,1]))\n",
    "print(\"\\nMaximum Account balance :$\",np.max(banking_data[:,1]))\n"
   ]
  },
  {
   "cell_type": "code",
   "execution_count": 57,
   "id": "fd6e7f74",
   "metadata": {},
   "outputs": [
    {
     "name": "stdout",
     "output_type": "stream",
     "text": [
      "Minimum credit score : 610\n",
      "\n",
      "Maximum credit score: 780\n"
     ]
    }
   ],
   "source": [
    "#Q5.2: Find the minimum and maximum credit scores\n",
    "print(\"Minimum credit score :\",np.min(banking_data[:,2]))\n",
    "print(\"\\nMaximum credit score:\",np.max(banking_data[:,2]))"
   ]
  },
  {
   "cell_type": "code",
   "execution_count": 58,
   "id": "fa430094",
   "metadata": {},
   "outputs": [
    {
     "name": "stdout",
     "output_type": "stream",
     "text": [
      "25th percentile: $5875.00\n",
      "50th percentile: $9250.00\n",
      "75th percentile: $10750.00\n"
     ]
    }
   ],
   "source": [
    "#Q5.3: Calculate the percentile values for account balances (25th, 50th, 75th)\n",
    "\n",
    "percentiles = np.percentile(banking_data[:, 1], [25, 50, 75])\n",
    "print(f\"25th percentile: ${percentiles[0]:.2f}\")\n",
    "print(f\"50th percentile: ${percentiles[1]:.2f}\")\n",
    "print(f\"75th percentile: ${percentiles[2]:.2f}\")\n"
   ]
  },
  {
   "cell_type": "code",
   "execution_count": 62,
   "id": "8855d4e3",
   "metadata": {},
   "outputs": [
    {
     "name": "stdout",
     "output_type": "stream",
     "text": [
      "Correlation between account balance and credit score : 0.9821417309135924\n"
     ]
    }
   ],
   "source": [
    "#Q5.4: Calculate the correlation between account balance and credit score\n",
    "print(\"Correlation between account balance and credit score :\", np.corrcoef(banking_data[:,1],banking_data[:,2])[0,1])"
   ]
  },
  {
   "cell_type": "code",
   "execution_count": null,
   "id": "ac6d1af1",
   "metadata": {},
   "outputs": [
    {
     "name": "stdout",
     "output_type": "stream",
     "text": [
      "Covariance between account balance and credit score : 192777.77777777778\n"
     ]
    }
   ],
   "source": [
    "#Q5.5: Calculate the covariance between account balance and credit score\n",
    "print(\"Covariance between account balance and credit score :\", np.cov(banking_data[:,1],banking_data[:,2])[0,1])"
   ]
  },
  {
   "cell_type": "markdown",
   "id": "77ad90e6",
   "metadata": {},
   "source": [
    "Question 6: Array Reshaping and Manipulation\n",
    "\n"
   ]
  },
  {
   "cell_type": "code",
   "execution_count": 67,
   "id": "1cf3e92a",
   "metadata": {},
   "outputs": [
    {
     "name": "stdout",
     "output_type": "stream",
     "text": [
      "Reshapped Banking Data :\n",
      " [[  101 10000   720    45     5   102  8500   680    30     3]\n",
      " [  103 12000   750    60     7   104  5000   640    20     2]\n",
      " [  105  9500   700    40     4   106 15000   780    75     8]\n",
      " [  107  3000   610    15     1   108 11000   730    55     6]\n",
      " [  109  4000   650    25     2   110  9000   690    35     3]]\n"
     ]
    }
   ],
   "source": [
    "#Q6.1: Reshape the banking_data to 5 rows × 10 columns\n",
    "print(\"Reshapped Banking Data :\\n\", banking_data.reshape(5,10))"
   ]
  },
  {
   "cell_type": "code",
   "execution_count": 70,
   "id": "6e016c43",
   "metadata": {},
   "outputs": [
    {
     "name": "stdout",
     "output_type": "stream",
     "text": [
      "Flattened Banking Data : <built-in method flatten of numpy.ndarray object at 0x000002CF410529D0>\n"
     ]
    }
   ],
   "source": [
    "#Q6.2: Flatten the banking_data to a 1D array\n",
    "print(\"Flattened Banking Data :\", banking_data.flatten)"
   ]
  },
  {
   "cell_type": "code",
   "execution_count": 72,
   "id": "8e8067c3",
   "metadata": {},
   "outputs": [
    {
     "name": "stdout",
     "output_type": "stream",
     "text": [
      "Transpose of Banking Data :\n",
      " [[  101   102   103   104   105   106   107   108   109   110]\n",
      " [10000  8500 12000  5000  9500 15000  3000 11000  4000  9000]\n",
      " [  720   680   750   640   700   780   610   730   650   690]\n",
      " [   45    30    60    20    40    75    15    55    25    35]\n",
      " [    5     3     7     2     4     8     1     6     2     3]]\n"
     ]
    }
   ],
   "source": [
    "#Q6.3: Transpose the banking_data\n",
    "print(\"Transpose of Banking Data :\\n\",banking_data.T)"
   ]
  },
  {
   "cell_type": "code",
   "execution_count": null,
   "id": "f9f22b5e",
   "metadata": {},
   "outputs": [
    {
     "name": "stdout",
     "output_type": "stream",
     "text": [
      "Banking data split vertically :\n",
      "\n",
      "First part :\n",
      " [[  101 10000   720    45     5]\n",
      " [  102  8500   680    30     3]\n",
      " [  103 12000   750    60     7]\n",
      " [  104  5000   640    20     2]\n",
      " [  105  9500   700    40     4]]\n",
      "Second part :\n",
      " [[  106 15000   780    75     8]\n",
      " [  107  3000   610    15     1]\n",
      " [  108 11000   730    55     6]\n",
      " [  109  4000   650    25     2]\n",
      " [  110  9000   690    35     3]]\n"
     ]
    }
   ],
   "source": [
    "#Q6.4: Split the banking_data into 2 equal parts vertically\n",
    "#splits data by row\n",
    "print(\"Banking data split vertically :\\n\")\n",
    "split_vertically = np.vsplit(banking_data,2)\n",
    "print(\"First part :\\n\",split_vertically[0])\n",
    "print(\"Second part :\\n\",split_vertically[1] )\n"
   ]
  },
  {
   "cell_type": "code",
   "execution_count": null,
   "id": "1db7b6b8",
   "metadata": {},
   "outputs": [
    {
     "name": "stdout",
     "output_type": "stream",
     "text": [
      "Banking data split horizontally :\n",
      "\n"
     ]
    },
    {
     "ename": "ValueError",
     "evalue": "array split does not result in an equal division",
     "output_type": "error",
     "traceback": [
      "\u001b[31m---------------------------------------------------------------------------\u001b[39m",
      "\u001b[31mValueError\u001b[39m                                Traceback (most recent call last)",
      "\u001b[36mCell\u001b[39m\u001b[36m \u001b[39m\u001b[32mIn[82]\u001b[39m\u001b[32m, line 4\u001b[39m\n\u001b[32m      1\u001b[39m \u001b[38;5;66;03m#Q6.5: Split the banking_data into 2 equal parts horizontally\u001b[39;00m\n\u001b[32m      3\u001b[39m \u001b[38;5;28mprint\u001b[39m(\u001b[33m\"\u001b[39m\u001b[33mBanking data split horizontally :\u001b[39m\u001b[38;5;130;01m\\n\u001b[39;00m\u001b[33m\"\u001b[39m)\n\u001b[32m----> \u001b[39m\u001b[32m4\u001b[39m split_horizontally = \u001b[43mnp\u001b[49m\u001b[43m.\u001b[49m\u001b[43mhsplit\u001b[49m\u001b[43m(\u001b[49m\u001b[43mbanking_data\u001b[49m\u001b[43m \u001b[49m\u001b[43m,\u001b[49m\u001b[43m \u001b[49m\u001b[32;43m2\u001b[39;49m\u001b[43m \u001b[49m\u001b[43m)\u001b[49m\n\u001b[32m      5\u001b[39m \u001b[38;5;28mprint\u001b[39m(\u001b[33m\"\u001b[39m\u001b[33mFirst part :\u001b[39m\u001b[38;5;130;01m\\n\u001b[39;00m\u001b[33m\"\u001b[39m,split_horizontally[\u001b[32m0\u001b[39m])\n\u001b[32m      6\u001b[39m \u001b[38;5;28mprint\u001b[39m(\u001b[33m\"\u001b[39m\u001b[33mSecond part :\u001b[39m\u001b[38;5;130;01m\\n\u001b[39;00m\u001b[33m\"\u001b[39m,split_horizontally[\u001b[32m1\u001b[39m] )\n",
      "\u001b[36mFile \u001b[39m\u001b[32mc:\\Users\\harsh\\AppData\\Local\\Programs\\Python\\Python313\\Lib\\site-packages\\numpy\\lib\\_shape_base_impl.py:959\u001b[39m, in \u001b[36mhsplit\u001b[39m\u001b[34m(ary, indices_or_sections)\u001b[39m\n\u001b[32m    957\u001b[39m     \u001b[38;5;28;01mraise\u001b[39;00m \u001b[38;5;167;01mValueError\u001b[39;00m(\u001b[33m'\u001b[39m\u001b[33mhsplit only works on arrays of 1 or more dimensions\u001b[39m\u001b[33m'\u001b[39m)\n\u001b[32m    958\u001b[39m \u001b[38;5;28;01mif\u001b[39;00m ary.ndim > \u001b[32m1\u001b[39m:\n\u001b[32m--> \u001b[39m\u001b[32m959\u001b[39m     \u001b[38;5;28;01mreturn\u001b[39;00m \u001b[43msplit\u001b[49m\u001b[43m(\u001b[49m\u001b[43mary\u001b[49m\u001b[43m,\u001b[49m\u001b[43m \u001b[49m\u001b[43mindices_or_sections\u001b[49m\u001b[43m,\u001b[49m\u001b[43m \u001b[49m\u001b[32;43m1\u001b[39;49m\u001b[43m)\u001b[49m\n\u001b[32m    960\u001b[39m \u001b[38;5;28;01melse\u001b[39;00m:\n\u001b[32m    961\u001b[39m     \u001b[38;5;28;01mreturn\u001b[39;00m split(ary, indices_or_sections, \u001b[32m0\u001b[39m)\n",
      "\u001b[36mFile \u001b[39m\u001b[32mc:\\Users\\harsh\\AppData\\Local\\Programs\\Python\\Python313\\Lib\\site-packages\\numpy\\lib\\_shape_base_impl.py:884\u001b[39m, in \u001b[36msplit\u001b[39m\u001b[34m(ary, indices_or_sections, axis)\u001b[39m\n\u001b[32m    882\u001b[39m     N = ary.shape[axis]\n\u001b[32m    883\u001b[39m     \u001b[38;5;28;01mif\u001b[39;00m N % sections:\n\u001b[32m--> \u001b[39m\u001b[32m884\u001b[39m         \u001b[38;5;28;01mraise\u001b[39;00m \u001b[38;5;167;01mValueError\u001b[39;00m(\n\u001b[32m    885\u001b[39m             \u001b[33m'\u001b[39m\u001b[33marray split does not result in an equal division\u001b[39m\u001b[33m'\u001b[39m) \u001b[38;5;28;01mfrom\u001b[39;00m\u001b[38;5;250m \u001b[39m\u001b[38;5;28;01mNone\u001b[39;00m\n\u001b[32m    886\u001b[39m \u001b[38;5;28;01mreturn\u001b[39;00m array_split(ary, indices_or_sections, axis)\n",
      "\u001b[31mValueError\u001b[39m: array split does not result in an equal division"
     ]
    }
   ],
   "source": [
    "#Q6.5: Split the banking_data into 2 equal parts horizontally\n",
    "#splits data by columns\n",
    "\n",
    "print(\"Banking data split horizontally :\\n\")\n",
    "split_horizontally = np.hsplit(banking_data , 2 )\n",
    "print(\"First part :\\n\",split_horizontally[0])\n",
    "print(\"Second part :\\n\",split_horizontally[1] )\n"
   ]
  },
  {
   "cell_type": "code",
   "execution_count": null,
   "id": "d44e1694",
   "metadata": {},
   "outputs": [
    {
     "data": {
      "text/plain": [
       "array([[  101, 10000,   720,    45,     5],\n",
       "       [  102,  8500,   680,    30,     3],\n",
       "       [  103, 12000,   750,    60,     7],\n",
       "       [  104,  5000,   640,    20,     2],\n",
       "       [  105,  9500,   700,    40,     4],\n",
       "       [  106, 15000,   780,    75,     8],\n",
       "       [  107,  3000,   610,    15,     1],\n",
       "       [  108, 11000,   730,    55,     6],\n",
       "       [  109,  4000,   650,    25,     2],\n",
       "       [  110,  9000,   690,    35,     3]])"
      ]
     },
     "execution_count": 79,
     "metadata": {},
     "output_type": "execute_result"
    }
   ],
   "source": [
    "banking_data"
   ]
  },
  {
   "cell_type": "markdown",
   "id": "37b5e3c1",
   "metadata": {},
   "source": [
    "Question 7: Logical Operations and Filtering\n",
    "\n"
   ]
  },
  {
   "cell_type": "code",
   "execution_count": null,
   "id": "f74abf2d",
   "metadata": {},
   "outputs": [
    {
     "name": "stdout",
     "output_type": "stream",
     "text": [
      "[]\n"
     ]
    }
   ],
   "source": [
    "#Q7.1: Find customers with account balance greater than $100,000\n",
    "account_balance = banking_data[banking_data[:,1] >100000]\n",
    "print(\"customers with account balance greater than $100,000 :\",account_balance)"
   ]
  },
  {
   "cell_type": "code",
   "execution_count": 92,
   "id": "aac44398",
   "metadata": {},
   "outputs": [
    {
     "name": "stdout",
     "output_type": "stream",
     "text": [
      "customers with credit score greater than 800 : []\n"
     ]
    }
   ],
   "source": [
    "#Q7.2: Find customers with credit score greater than 800\n",
    "credit_score = banking_data[banking_data[:,2] > 800]\n",
    "print(\"customers with credit score greater than 800 :\",credit_score)"
   ]
  },
  {
   "cell_type": "code",
   "execution_count": 94,
   "id": "7ebfaec7",
   "metadata": {},
   "outputs": [
    {
     "name": "stdout",
     "output_type": "stream",
     "text": [
      "customers with transaction count greater than 50 AND credit score less than 750 : [[  108 11000   730    55     6]]\n"
     ]
    }
   ],
   "source": [
    "#Q7.3: Find customers with transaction count greater than 50 AND credit score less than 750\n",
    "transaction = banking_data[(banking_data[:,3] > 50) & (banking_data[:,2] < 750)]\n",
    "print(\"customers with transaction count greater than 50 AND credit score less than 750 :\",transaction)"
   ]
  },
  {
   "cell_type": "code",
   "execution_count": 99,
   "id": "fac44c91",
   "metadata": {},
   "outputs": [
    {
     "name": "stdout",
     "output_type": "stream",
     "text": [
      "customers have account balance between $10,000 and $100,000 : 4\n"
     ]
    }
   ],
   "source": [
    "#Q7.4: Count how many customers have account balance between $10,000 and $100,000\n",
    "question = np.sum((banking_data[:,1] >= 10000) & (banking_data[:,1] <= 100000))\n",
    "print(\"customers have account balance between $10,000 and $100,000 :\",question)\n"
   ]
  },
  {
   "cell_type": "code",
   "execution_count": 101,
   "id": "3ccad6eb",
   "metadata": {},
   "outputs": [
    {
     "name": "stdout",
     "output_type": "stream",
     "text": [
      "Index of the customer with the highest credit score : 6\n"
     ]
    }
   ],
   "source": [
    "#Q7.5: Find the index of the customer with the highest credit score\n",
    "highest_credit_score = np.argmax(banking_data[:,2])+1\n",
    "print(\"Index of the customer with the highest credit score :\",highest_credit_score)"
   ]
  },
  {
   "cell_type": "markdown",
   "id": "8e4b4573",
   "metadata": {},
   "source": [
    "Question 8: Sorting and Searching\n"
   ]
  },
  {
   "cell_type": "code",
   "execution_count": 105,
   "id": "67d369c9",
   "metadata": {},
   "outputs": [
    {
     "name": "stdout",
     "output_type": "stream",
     "text": [
      "Ascending order :\n",
      " [[  107  3000   610    15     1]\n",
      " [  109  4000   650    25     2]\n",
      " [  104  5000   640    20     2]\n",
      " [  102  8500   680    30     3]\n",
      " [  110  9000   690    35     3]\n",
      " [  105  9500   700    40     4]\n",
      " [  101 10000   720    45     5]\n",
      " [  108 11000   730    55     6]\n",
      " [  103 12000   750    60     7]\n",
      " [  106 15000   780    75     8]]\n"
     ]
    }
   ],
   "source": [
    "#Q8.1: Sort the banking_data by account balance (ascending)\n",
    "print(\"Ascending order :\\n\",banking_data[banking_data[:,1].argsort()])"
   ]
  },
  {
   "cell_type": "code",
   "execution_count": 107,
   "id": "036952c7",
   "metadata": {},
   "outputs": [
    {
     "name": "stdout",
     "output_type": "stream",
     "text": [
      "Decending order :\n",
      " [[  106 15000   780    75     8]\n",
      " [  103 12000   750    60     7]\n",
      " [  108 11000   730    55     6]\n",
      " [  101 10000   720    45     5]\n",
      " [  105  9500   700    40     4]\n",
      " [  110  9000   690    35     3]\n",
      " [  102  8500   680    30     3]\n",
      " [  104  5000   640    20     2]\n",
      " [  109  4000   650    25     2]\n",
      " [  107  3000   610    15     1]]\n"
     ]
    }
   ],
   "source": [
    "#Q8.2: Sort the banking_data by credit score (descending)\n",
    "print(\"Decending order :\\n\",banking_data[(-banking_data[:,1]).argsort()])\n"
   ]
  },
  {
   "cell_type": "code",
   "execution_count": 114,
   "id": "c32da792",
   "metadata": {},
   "outputs": [
    {
     "name": "stdout",
     "output_type": "stream",
     "text": [
      "sort the array by years active:\n",
      " [[  107  3000   610    15     1]\n",
      " [  104  5000   640    20     2]\n",
      " [  109  4000   650    25     2]\n",
      " [  102  8500   680    30     3]\n",
      " [  110  9000   690    35     3]\n",
      " [  105  9500   700    40     4]\n",
      " [  101 10000   720    45     5]\n",
      " [  108 11000   730    55     6]\n",
      " [  103 12000   750    60     7]\n",
      " [  106 15000   780    75     8]]\n",
      "indices that would sort the array by years active : [ 7  4  9  2 10  5  1  8  3  6]\n"
     ]
    }
   ],
   "source": [
    "#Q8.3: Find the indices that would sort the array by years active\n",
    "array = banking_data[banking_data[:,4].argsort()]\n",
    "print(\"sort the array by years active:\\n\",array)\n",
    "print(\"indices that would sort the array by years active :\",np.argsort(banking_data[:,4])+1)"
   ]
  },
  {
   "cell_type": "code",
   "execution_count": 125,
   "id": "668cffb9",
   "metadata": {},
   "outputs": [
    {
     "name": "stdout",
     "output_type": "stream",
     "text": [
      "customer with the second highest account balance : [  103 12000   750    60     7]\n"
     ]
    }
   ],
   "source": [
    "#Q8.4: Find the customer with the second highest account balance\n",
    "second_highest = banking_data[banking_data[:,1].argsort()][-2]\n",
    "print(\"customer with the second highest account balance :\",second_highest)"
   ]
  },
  {
   "cell_type": "code",
   "execution_count": 128,
   "id": "3390d2b6",
   "metadata": {},
   "outputs": [
    {
     "name": "stdout",
     "output_type": "stream",
     "text": [
      "customer with the lowest transaction count : 7\n"
     ]
    }
   ],
   "source": [
    "#Q8.5: Find the customer with the lowest transaction count\n",
    "lowest_transaction_count = np.argmin(banking_data[:,4])+1\n",
    "print(\"customer with the lowest transaction count :\",lowest_transaction_count)"
   ]
  },
  {
   "cell_type": "markdown",
   "id": "fcfe048c",
   "metadata": {},
   "source": [
    "Question 9: Mathematical Functions\n"
   ]
  },
  {
   "cell_type": "code",
   "execution_count": 131,
   "id": "540c2c5a",
   "metadata": {},
   "outputs": [
    {
     "name": "stdout",
     "output_type": "stream",
     "text": [
      "Absolute Values of Banking Data :\n",
      " [[  101 10000   720    45     5]\n",
      " [  102  8500   680    30     3]\n",
      " [  103 12000   750    60     7]\n",
      " [  104  5000   640    20     2]\n",
      " [  105  9500   700    40     4]\n",
      " [  106 15000   780    75     8]\n",
      " [  107  3000   610    15     1]\n",
      " [  108 11000   730    55     6]\n",
      " [  109  4000   650    25     2]\n",
      " [  110  9000   690    35     3]]\n"
     ]
    }
   ],
   "source": [
    "#Q9.1: Calculate the absolute values of all elements\n",
    "print(\"Absolute Values of Banking Data :\\n\",np.abs(banking_data))"
   ]
  },
  {
   "cell_type": "code",
   "execution_count": 133,
   "id": "70116677",
   "metadata": {},
   "outputs": [
    {
     "name": "stdout",
     "output_type": "stream",
     "text": [
      " square root of all account balances :\n",
      " [100.          92.19544457 109.5445115   70.71067812  97.46794345\n",
      " 122.47448714  54.77225575 104.88088482  63.2455532   94.86832981]\n"
     ]
    }
   ],
   "source": [
    "#Q9.2: Calculate the square root of all account balances\n",
    "square_roots = np.sqrt(banking_data[:,1])\n",
    "print(\" square root of all account balances :\\n\", square_roots)"
   ]
  },
  {
   "cell_type": "code",
   "execution_count": 134,
   "id": "cb84cd19",
   "metadata": {},
   "outputs": [
    {
     "name": "stdout",
     "output_type": "stream",
     "text": [
      " square of all credit scores :\n",
      " [518400 462400 562500 409600 490000 608400 372100 532900 422500 476100]\n"
     ]
    }
   ],
   "source": [
    "#Q9.3: Calculate the square of all credit scores\n",
    "print(\" square of all credit scores :\\n\",np.square(banking_data[:,2]))"
   ]
  },
  {
   "cell_type": "code",
   "execution_count": 135,
   "id": "682132bf",
   "metadata": {},
   "outputs": [
    {
     "name": "stdout",
     "output_type": "stream",
     "text": [
      "Exponential of all transaction counts :\n",
      " [3.49342711e+19 1.06864746e+13 1.14200739e+26 4.85165195e+08\n",
      " 2.35385267e+17 3.73324200e+32 3.26901737e+06 7.69478527e+23\n",
      " 7.20048993e+10 1.58601345e+15]\n"
     ]
    }
   ],
   "source": [
    "#Q9.4: Calculate the exponential of all transaction counts\n",
    "print(\"Exponential of all transaction counts :\\n\",np.exp(banking_data[:,3]))"
   ]
  },
  {
   "cell_type": "code",
   "execution_count": 137,
   "id": "b03b0505",
   "metadata": {},
   "outputs": [
    {
     "name": "stdout",
     "output_type": "stream",
     "text": [
      "Natural logarithm of all account balances :\n",
      " [9.21034037 9.04782144 9.39266193 8.51719319 9.15904708 9.61580548\n",
      " 8.00636757 9.30565055 8.29404964 9.10497986]\n"
     ]
    }
   ],
   "source": [
    "#Q9.5: Calculate the natural logarithm of all account balances\n",
    "print(\"Natural logarithm of all account balances :\\n\",np.log(banking_data[:,1]))"
   ]
  },
  {
   "cell_type": "markdown",
   "id": "3ed63f48",
   "metadata": {},
   "source": [
    "Question 10: Advanced Operations\n"
   ]
  },
  {
   "cell_type": "code",
   "execution_count": 140,
   "id": "a14cc057",
   "metadata": {},
   "outputs": [
    {
     "name": "stdout",
     "output_type": "stream",
     "text": [
      "Cumulative sum of account balances :\n",
      " [10000 18500 30500 35500 45000 60000 63000 74000 78000 87000]\n"
     ]
    }
   ],
   "source": [
    "#Q10.1: Calculate the cumulative sum of account balances\n",
    "print(\"Cumulative sum of account balances :\\n\", np.cumsum(banking_data[:,1]))"
   ]
  },
  {
   "cell_type": "code",
   "execution_count": 141,
   "id": "86495027",
   "metadata": {},
   "outputs": [
    {
     "name": "stdout",
     "output_type": "stream",
     "text": [
      "Cumulative product of transaction counts :\n",
      " [              45             1350            81000          1620000\n",
      "         64800000       4860000000      72900000000    4009500000000\n",
      "  100237500000000 3508312500000000]\n"
     ]
    }
   ],
   "source": [
    "#Q10.2: Calculate the cumulative product of transaction counts\n",
    "print(\"Cumulative product of transaction counts :\\n\",np.cumprod(banking_data[:,3]))"
   ]
  },
  {
   "cell_type": "code",
   "execution_count": null,
   "id": "f0e3efac",
   "metadata": {},
   "outputs": [
    {
     "name": "stdout",
     "output_type": "stream",
     "text": [
      "Difference between consecutive account balances :\n",
      " [ -1500   3500  -7000   4500   5500 -12000   8000  -7000   5000]\n"
     ]
    }
   ],
   "source": [
    "#Q10.3: Calculate the difference between consecutive account balances\n",
    "print(\"Difference between consecutive account balances :\\n\", np.diff(banking_data[:,1]))\n"
   ]
  },
  {
   "cell_type": "markdown",
   "id": "481d6052",
   "metadata": {},
   "source": [
    "<small>\n",
    "Finding Gradient\n",
    "\n",
    "First element (i = 0):  \n",
    "grad[0] = f[1] − f[0]  \n",
    "\n",
    "Last element (i = n−1):  \n",
    "grad[n−1] = f[n−1] − f[n−2]  \n",
    "\n",
    "Middle elements (0 < i < n−1):  \n",
    "grad[i] = (f[i+1] − f[i−1]) / 2  \n",
    "</small>\n"
   ]
  },
  {
   "cell_type": "code",
   "execution_count": 143,
   "id": "3354b221",
   "metadata": {},
   "outputs": [
    {
     "name": "stdout",
     "output_type": "stream",
     "text": [
      "Gradient of account balances :\n",
      " [-1500.  1000. -1750. -1250.  5000. -3250. -2000.   500. -1000.  5000.]\n"
     ]
    }
   ],
   "source": [
    "#Q10.4: Calculate the gradient of account balances\n",
    "print(\"Gradient of account balances :\\n\",np.gradient(banking_data[:,1]))"
   ]
  },
  {
   "cell_type": "markdown",
   "id": "267a3f27",
   "metadata": {},
   "source": [
    "\n",
    "**Inputs**\n",
    "- data: x1, x2, ..., xn\n",
    "- number of bins: k = 5 ---> bins\n",
    "\n",
    "**1) Find min and max**\n",
    "- min = min(x)\n",
    "- max = max(x)\n",
    "\n",
    "**2) Compute bin width**\n",
    "- bin_width = (max − min) / k\n",
    "\n",
    "**3) Compute bin edges (k+1 numbers)**\n",
    "- e0 = min\n",
    "- e1 = min + bin_width\n",
    "- e2 = min + 2*bin_width\n",
    "- ...\n",
    "- ek = max\n",
    "\n",
    "**4) Count items in each bin**\n",
    "- For j = 0 … k−2: Bin j is [ej, e(j+1)) → count values x with ej ≤ x < e(j+1)\n",
    "- Last bin (j = k−1): [e(k−1), ek] → include right edge\n",
    "\n",
    "**5) Output**\n",
    "- counts = [count0, count1, …, count(k−1)]\n",
    "- edges  = [e0, e1, …, ek]\n",
    "\n"
   ]
  },
  {
   "cell_type": "code",
   "execution_count": 145,
   "id": "efe0a626",
   "metadata": {},
   "outputs": [
    {
     "name": "stdout",
     "output_type": "stream",
     "text": [
      "histogram of account balances with 5 bins :\n",
      " (array([3, 0, 4, 2, 1]), array([ 3000.,  5400.,  7800., 10200., 12600., 15000.]))\n"
     ]
    }
   ],
   "source": [
    "#Q10.5: Calculate the histogram of account balances with 5 bins\n",
    "print(\"histogram of account balances with 5 bins :\\n\",np.histogram(banking_data[:,1],bins=5))"
   ]
  },
  {
   "cell_type": "markdown",
   "id": "1164ea0b",
   "metadata": {},
   "source": [
    "Question 11: Random Numbers and Simulation\n"
   ]
  },
  {
   "cell_type": "code",
   "execution_count": null,
   "id": "3880654d",
   "metadata": {},
   "outputs": [
    {
     "data": {
      "text/plain": [
       "array([ 38, 214,  68, 841,  43, 447], dtype=int32)"
      ]
     },
     "execution_count": 148,
     "metadata": {},
     "output_type": "execute_result"
    }
   ],
   "source": [
    "#Q11.1: Generate 6 random integers between 1 and 1000\n",
    "print(np.random.randint(1,1001,6))"
   ]
  },
  {
   "cell_type": "code",
   "execution_count": null,
   "id": "eb883f84",
   "metadata": {},
   "outputs": [
    {
     "name": "stdout",
     "output_type": "stream",
     "text": [
      "[0.02633873 0.76568242 0.83742623 0.47760721 0.35533551 0.33556784]\n"
     ]
    }
   ],
   "source": [
    "#Q11.2: Generate 6 random floats between 0 and 1\n",
    "print(np.random.random(6)) #basically generates random numbers between 0.0 to 1.0"
   ]
  },
  {
   "cell_type": "code",
   "execution_count": null,
   "id": "a849ad12",
   "metadata": {},
   "outputs": [
    {
     "name": "stdout",
     "output_type": "stream",
     "text": [
      "[477.25684325 655.90124903 780.25735185 617.72159245 735.28788445\n",
      " 768.56858562]\n"
     ]
    }
   ],
   "source": [
    "#Q11.3: Generate 6 random numbers from normal distribution (mean=700, std=100)\n",
    "print(np.random.normal(700,100,6))   #np.random.normal(mean,std,n)"
   ]
  },
  {
   "cell_type": "code",
   "execution_count": 158,
   "id": "93058f18",
   "metadata": {},
   "outputs": [
    {
     "name": "stdout",
     "output_type": "stream",
     "text": [
      "[[  102  8500   680    30     3]\n",
      " [  103 12000   750    60     7]\n",
      " [  106 15000   780    75     8]\n",
      " [  105  9500   700    40     4]\n",
      " [  110  9000   690    35     3]\n",
      " [  109  4000   650    25     2]\n",
      " [  108 11000   730    55     6]\n",
      " [  107  3000   610    15     1]\n",
      " [  101 10000   720    45     5]\n",
      " [  104  5000   640    20     2]]\n"
     ]
    }
   ],
   "source": [
    "#Q11.4: Shuffle the banking_data rows randomly\n",
    "shuffle_copy = banking_data.copy()\n",
    "np.random.shuffle(shuffle_copy)   # there's no undo if we shuffle the original data\n",
    "print(shuffle_copy)    # so always create a copy\n"
   ]
  },
  {
   "cell_type": "code",
   "execution_count": 157,
   "id": "9e6d36b8",
   "metadata": {},
   "outputs": [
    {
     "data": {
      "text/plain": [
       "array([[  101, 10000,   720,    45,     5],\n",
       "       [  102,  8500,   680,    30,     3],\n",
       "       [  103, 12000,   750,    60,     7],\n",
       "       [  104,  5000,   640,    20,     2],\n",
       "       [  105,  9500,   700,    40,     4],\n",
       "       [  106, 15000,   780,    75,     8],\n",
       "       [  107,  3000,   610,    15,     1],\n",
       "       [  108, 11000,   730,    55,     6],\n",
       "       [  109,  4000,   650,    25,     2],\n",
       "       [  110,  9000,   690,    35,     3]])"
      ]
     },
     "execution_count": 157,
     "metadata": {},
     "output_type": "execute_result"
    }
   ],
   "source": [
    "banking_data"
   ]
  },
  {
   "cell_type": "code",
   "execution_count": null,
   "id": "3fa87a56",
   "metadata": {},
   "outputs": [
    {
     "name": "stdout",
     "output_type": "stream",
     "text": [
      "[0.69646919 0.28613933 0.22685145 0.55131477]\n"
     ]
    }
   ],
   "source": [
    "#Q11.5: Set random seed to 123 and generate 4 random numbers\n",
    "np.random.seed(123)                            #np.random.RandomState(123).random(4)\n",
    "seeded_numbers =np.random.random(4)\n",
    "print(seeded_numbers)"
   ]
  },
  {
   "cell_type": "markdown",
   "id": "2d5bcc25",
   "metadata": {},
   "source": [
    "Question 12: Linear Algebra Operations\n"
   ]
  },
  {
   "cell_type": "code",
   "execution_count": null,
   "id": "03142816",
   "metadata": {},
   "outputs": [
    {
     "name": "stdout",
     "output_type": "stream",
     "text": [
      "Dot product of account balance and credit score columns :62200000\n"
     ]
    }
   ],
   "source": [
    "#Q12.1: Calculate the dot product of account balance and credit score columns\n",
    "dot_product = np.dot(banking_data[:,1],banking_data[:,2])   #ab= a1b1+ a2b2 +....+anbn\n",
    "print(f\"Dot product of account balance and credit score columns :{dot_product}\")"
   ]
  },
  {
   "cell_type": "code",
   "execution_count": null,
   "id": "5cc8191a",
   "metadata": {},
   "outputs": [
    {
     "name": "stdout",
     "output_type": "stream",
     "text": [
      "[ 680000    4760 -161500]\n"
     ]
    }
   ],
   "source": [
    "#Q12.2: Calculate the cross product of first two rows\n",
    "cross_product = np.cross(banking_data[0,:3],banking_data[1,:3])  #can be done on 2D or 3D\n",
    "print(cross_product)  #a×b=(ay​bz​−az​by​,az​bx​−ax​bz​,ax​by​−ay​bx​)  matrix "
   ]
  },
  {
   "cell_type": "code",
   "execution_count": null,
   "id": "f8dd4fe3",
   "metadata": {},
   "outputs": [
    {
     "name": "stdout",
     "output_type": "stream",
     "text": [
      "norm (magnitude) of the account balance column : 29723.7278954037\n"
     ]
    }
   ],
   "source": [
    "#Q12.3: Calculate the norm (magnitude) of the account balance column\n",
    "print(\"Norm (magnitude) of the account balance column :\",np.linalg.norm(banking_data[:,1]))"
   ]
  },
  {
   "cell_type": "code",
   "execution_count": null,
   "id": "c7626c1a",
   "metadata": {},
   "outputs": [
    {
     "name": "stdout",
     "output_type": "stream",
     "text": [
      "[[2 3 2]\n",
      " [2 4 6]\n",
      " [1 9 2]]\n",
      "Determinant of 3x3 matrix : -58\n"
     ]
    }
   ],
   "source": [
    "#Q12.4: Create a 3x3 matrix and calculate its determinant\n",
    "matrix = np.random.randint(1,10,(3,3))   #np.array([[1,2,3],[4,5,6],[7,8,9]])\n",
    "print(matrix)\n",
    "determinant = np.linalg.det(matrix)\n",
    "print(\"Determinant of 3x3 matrix :\",round(determinant))"
   ]
  },
  {
   "cell_type": "code",
   "execution_count": 178,
   "id": "222267a2",
   "metadata": {},
   "outputs": [
    {
     "name": "stdout",
     "output_type": "stream",
     "text": [
      "[[4 5 4]\n",
      " [2 1 6]\n",
      " [9 7 9]]\n",
      "Inverse of 3x3 matrix :\n",
      " [[-0.48529412 -0.25        0.38235294]\n",
      " [ 0.52941176  0.         -0.23529412]\n",
      " [ 0.07352941  0.25       -0.08823529]]\n"
     ]
    }
   ],
   "source": [
    "#Q12.5: Calculate the inverse of the 3x3 matrix\n",
    "matrix = np.random.randint(1,10,(3,3))\n",
    "print(matrix)\n",
    "inverse = np.linalg.inv(matrix)\n",
    "print(\"Inverse of 3x3 matrix :\\n\",inverse)\n"
   ]
  },
  {
   "cell_type": "markdown",
   "id": "98c96d1e",
   "metadata": {},
   "source": [
    "Question 13: String Operations\n"
   ]
  },
  {
   "cell_type": "code",
   "execution_count": 180,
   "id": "4f06d32d",
   "metadata": {},
   "outputs": [
    {
     "name": "stdout",
     "output_type": "stream",
     "text": [
      "Converting all customer IDs to strings :\n",
      " ['101' '102' '103' '104' '105' '106' '107' '108' '109' '110']\n"
     ]
    }
   ],
   "source": [
    "#Q13.1: Convert all customer IDs to strings\n",
    "print(\"Converting all customer IDs to strings :\\n\",banking_data[:,0].astype(str))"
   ]
  },
  {
   "cell_type": "code",
   "execution_count": null,
   "id": "edd48cce",
   "metadata": {},
   "outputs": [
    {
     "name": "stdout",
     "output_type": "stream",
     "text": [
      "[False False False False False False False False False False]\n",
      "False\n"
     ]
    }
   ],
   "source": [
    "#Q13.2: Check if any customer ID contains '100'\n",
    "string1 = banking_data[:,0].astype(str)\n",
    "contain_string_100 =np.char.find(string1,'100') >= 0  # condition(>=0)converts to boolen\n",
    "print(contain_string_100)\n",
    "print(np.any(contain_string_100))  #checks if at least one is True"
   ]
  },
  {
   "cell_type": "code",
   "execution_count": 187,
   "id": "59a59649",
   "metadata": {},
   "outputs": [
    {
     "name": "stdout",
     "output_type": "stream",
     "text": [
      "Converting all customer IDs to uppercase : ['101' '102' '103' '104' '105' '106' '107' '108' '109' '110']\n"
     ]
    }
   ],
   "source": [
    "#Q13.3: Convert all customer IDs to uppercase (if they were strings)\n",
    "string1 =banking_data[:,0].astype(str)\n",
    "upper_case= np.char.upper(string1)\n",
    "print(\"Converting all customer IDs to uppercase :\",upper_case)"
   ]
  },
  {
   "cell_type": "code",
   "execution_count": 188,
   "id": "1664464d",
   "metadata": {},
   "outputs": [
    {
     "name": "stdout",
     "output_type": "stream",
     "text": [
      "length of each customer ID string :\n",
      " [3 3 3 3 3 3 3 3 3 3]\n"
     ]
    }
   ],
   "source": [
    "#Q13.4: Count the length of each customer ID string\n",
    "print(\"length of each customer ID string :\\n\",np.char.str_len(string1))"
   ]
  },
  {
   "cell_type": "code",
   "execution_count": 192,
   "id": "1be1ccaa",
   "metadata": {},
   "outputs": [
    {
     "name": "stdout",
     "output_type": "stream",
     "text": [
      "['CUST' '102' '103' '104' '105' '106' '107' '108' '109' '110']\n"
     ]
    }
   ],
   "source": [
    "#Q13.5: Replace '100' with 'CUST' in customer IDs\n",
    "replace_100 = np.char.replace(string1,'101','CUST')\n",
    "#replace_100 = np.char.replace(string1,'100','CUST')\n",
    "print(replace_100)"
   ]
  },
  {
   "cell_type": "markdown",
   "id": "869d9cba",
   "metadata": {},
   "source": [
    "Question 14: Date and Time Operations\n"
   ]
  },
  {
   "cell_type": "code",
   "execution_count": 193,
   "id": "96ea7920",
   "metadata": {},
   "outputs": [
    {
     "name": "stdout",
     "output_type": "stream",
     "text": [
      "Years active to months : [60 36 84 24 48 96 12 72 24 36]\n"
     ]
    }
   ],
   "source": [
    "#Q14.1: Convert years active to months\n",
    "print(\"Years active to months :\", banking_data[:,4]*12)"
   ]
  },
  {
   "cell_type": "code",
   "execution_count": 194,
   "id": "0823d656",
   "metadata": {},
   "outputs": [
    {
     "name": "stdout",
     "output_type": "stream",
     "text": [
      "Average years active : 4.1\n"
     ]
    }
   ],
   "source": [
    "#Q14.2: Calculate the average years active\n",
    "print(\"Average years active :\",np.mean(banking_data[:,4]))"
   ]
  },
  {
   "cell_type": "code",
   "execution_count": 199,
   "id": "b6a0f06f",
   "metadata": {},
   "outputs": [
    {
     "name": "stdout",
     "output_type": "stream",
     "text": [
      "No. of Customers who have been active for more than 5 years : 3\n",
      "Customers who have been active for more than 5 years :\n",
      " [[  103 12000   750    60     7]\n",
      " [  106 15000   780    75     8]\n",
      " [  108 11000   730    55     6]]\n"
     ]
    }
   ],
   "source": [
    "#Q14.3: Find customers who have been active for more than 5 years\n",
    "print(\"No. of Customers who have been active for more than 5 years :\",np.sum(banking_data[:,4] >5))\n",
    "print(\"Customers who have been active for more than 5 years :\\n\",banking_data[banking_data[:,4] >5])\n"
   ]
  },
  {
   "cell_type": "code",
   "execution_count": 201,
   "id": "1f475c67",
   "metadata": {},
   "outputs": [
    {
     "name": "stdout",
     "output_type": "stream",
     "text": [
      "Total time all customers have been active (in years) : 41\n"
     ]
    }
   ],
   "source": [
    "#Q14.4: Calculate the total time all customers have been active (in years)\n",
    "print(\"Total time all customers have been active (in years) :\",np.sum(banking_data[:,4]))"
   ]
  },
  {
   "cell_type": "code",
   "execution_count": 203,
   "id": "44b34e48",
   "metadata": {},
   "outputs": [
    {
     "name": "stdout",
     "output_type": "stream",
     "text": [
      "customer with the shortest time active : [ 107 3000  610   15    1]\n"
     ]
    }
   ],
   "source": [
    "#Q14.5: Find the customer with the shortest time active\n",
    "cust1 = np.argmin(banking_data[:,4])\n",
    "time = banking_data[cust1]\n",
    "print(\"customer with the shortest time active :\",time)"
   ]
  },
  {
   "cell_type": "markdown",
   "id": "ec8873b6",
   "metadata": {},
   "source": [
    "Question 15: Advanced Array Operations\n"
   ]
  },
  {
   "cell_type": "code",
   "execution_count": 208,
   "id": "7bc81251",
   "metadata": {},
   "outputs": [
    {
     "name": "stdout",
     "output_type": "stream",
     "text": [
      "5 percent interest on all account balances :\n",
      " [10500.  8925. 12600.  5250.  9975. 15750.  3150. 11550.  4200.  9450.]\n"
     ]
    }
   ],
   "source": [
    "#Q15.1: Apply a function to calculate 5% interest on all account balances\n",
    "interest = banking_data[:,1] *0.05\n",
    "amt = banking_data[:,1] + interest\n",
    "print(\"5 percent interest on all account balances :\\n\",amt)"
   ]
  },
  {
   "cell_type": "code",
   "execution_count": null,
   "id": "a95f7759",
   "metadata": {},
   "outputs": [
    {
     "name": "stdout",
     "output_type": "stream",
     "text": [
      "[10500.  8925. 12600.  5250.  9975. 15750.  3150. 11550.  4200.  9450.]\n"
     ]
    }
   ],
   "source": [
    "def interest(x):\n",
    "   return x + x *0.05\n",
    "   \n",
    "x =banking_data[:,1]\n",
    "print(interest(x))\n",
    "\n",
    "# def apply_interest(balance):\n",
    "#     return balance * 1.05  # Adds 5% interest\n",
    "\n",
    "# # Applying function to the account balance column\n",
    "# updated_balances = np.vectorize(apply_interest)(banking_data[:, 1]) //np.vectorize --lets you apply this function element-wise to the entire NumPy array.\n",
    "\n",
    "# print(\"\\nQ15.1: Updated balances after applying 5% interest:\\n\", updated_balances)"
   ]
  },
  {
   "cell_type": "code",
   "execution_count": 222,
   "id": "43fe1639",
   "metadata": {},
   "outputs": [
    {
     "name": "stdout",
     "output_type": "stream",
     "text": [
      "['Medium' 'Medium' 'High' 'Medium' 'Medium' 'High' 'Low' 'High' 'Low'\n",
      " 'Medium']\n"
     ]
    }
   ],
   "source": [
    "#Q15.2: Use np.where to categorize customers by balance ranges\n",
    "amt = banking_data[:,1]\n",
    "categories = np.where(amt < 5000, \"Low\",\n",
    "    np.where(amt <= 10000, \"Medium\", \"High\"))\n",
    "print(categories)"
   ]
  },
  {
   "cell_type": "code",
   "execution_count": null,
   "id": "747abe39",
   "metadata": {},
   "outputs": [
    {
     "name": "stdout",
     "output_type": "stream",
     "text": [
      "[10700  8925 12840  5250  9975 16050  3060 11770  4080  9450]\n"
     ]
    }
   ],
   "source": [
    "#Q15.4: Use np.piecewise to apply different interest rates based on balance\n",
    "def low_balance(x): return x * 1.02\n",
    "def mid_balance(x): return x * 1.05\n",
    "def high_balance(x): return x * 1.07\n",
    "\n",
    "balances = np.piecewise(\n",
    "    banking_data[:,1],\n",
    "    [banking_data[:,1] < 5000,\n",
    "    (banking_data[:,1] < 10000) & (banking_data[:,1] >= 5000),\n",
    "     banking_data[:,1] >= 10000],\n",
    "    [low_balance,mid_balance,high_balance]   #np.piecewise(x, condlist, funclist, *args, **kwargs)\n",
    "    \n",
    ")\n",
    "print(balances)"
   ]
  },
  {
   "cell_type": "code",
   "execution_count": null,
   "id": "f3323c7f",
   "metadata": {},
   "outputs": [
    {
     "name": "stdout",
     "output_type": "stream",
     "text": [
      "[10871  9315 12920  5766 10349 15969  3733 11899  4786  9838]\n"
     ]
    }
   ],
   "source": [
    "#Q15.5: Use np.apply_along_axis to calculate the sum of each row\n",
    "row_sums = np.apply_along_axis(np.sum, 1, banking_data)  #np.apply_along_axis(func, axis, array)\n",
    "print(row_sums)"
   ]
  },
  {
   "cell_type": "markdown",
   "id": "703cb2b6",
   "metadata": {},
   "source": [
    "Question 16: Array Concatenation and Stacking\n"
   ]
  },
  {
   "cell_type": "code",
   "execution_count": 253,
   "id": "89b88995",
   "metadata": {},
   "outputs": [
    {
     "name": "stdout",
     "output_type": "stream",
     "text": [
      "[9 2 4 3 0] [3 7 7 2 5]\n",
      "[9 2 4 3 0 3 7 7 2 5]\n"
     ]
    }
   ],
   "source": [
    "#Q16.1: Concatenate two arrays horizontally using np.hstack()\n",
    "array1 = np.random.randint(0,10,5)\n",
    "array2 = np.random.randint(0,10,5)\n",
    "print(array1,array2)\n",
    "horizontal_stack = np.hstack([array1,array2])\n",
    "print(horizontal_stack)\n"
   ]
  },
  {
   "cell_type": "code",
   "execution_count": 255,
   "id": "42d0ae48",
   "metadata": {},
   "outputs": [
    {
     "name": "stdout",
     "output_type": "stream",
     "text": [
      "[3 3 3 1 7] [6 3 1 7 2]\n",
      "[[3 3 3 1 7]\n",
      " [6 3 1 7 2]]\n"
     ]
    }
   ],
   "source": [
    "#Q16.2: Concatenate two arrays vertically using np.vstack()\n",
    "array1 = np.random.randint(0,10,5)\n",
    "array2 = np.random.randint(0,10,5)\n",
    "print(array1,array2)\n",
    "vertical_stack = np.vstack([array1,array2])\n",
    "print(vertical_stack)\n"
   ]
  },
  {
   "cell_type": "code",
   "execution_count": 261,
   "id": "1050ddfc",
   "metadata": {},
   "outputs": [
    {
     "name": "stdout",
     "output_type": "stream",
     "text": [
      "[1 8 4 1 6] [5 9 0 3 1]\n",
      "[1 8 4 1 6 5 9 0 3 1]\n"
     ]
    }
   ],
   "source": [
    "#Q16.3: Concatenate arrays along a specific axis using np.concatenate()\n",
    "array1 = np.random.randint(0,10,5)\n",
    "array2 = np.random.randint(0,10,5)\n",
    "print(array1,array2)\n",
    "concatenate_array = np.concatenate([array1,array2],axis=0)\n",
    "print(concatenate_array)\n"
   ]
  },
  {
   "cell_type": "code",
   "execution_count": 265,
   "id": "5b40a027",
   "metadata": {},
   "outputs": [
    {
     "name": "stdout",
     "output_type": "stream",
     "text": [
      "[1 0 0 2 6] [5 9 1 5 3]\n",
      "[[[1 5]\n",
      "  [0 9]\n",
      "  [0 1]\n",
      "  [2 5]\n",
      "  [6 3]]]\n"
     ]
    }
   ],
   "source": [
    "#Q16.4: Stack arrays depth-wise using np.dstack()\n",
    "array1 = np.random.randint(0,10,5)\n",
    "array2 = np.random.randint(0,10,5)\n",
    "print(array1,array2)\n",
    "dstacked = np.dstack([array1,array2])\n",
    "print(dstacked)"
   ]
  },
  {
   "cell_type": "code",
   "execution_count": 266,
   "id": "b375cb8e",
   "metadata": {},
   "outputs": [
    {
     "name": "stdout",
     "output_type": "stream",
     "text": [
      "[6 4 7 1 6] [0 3 1 3 0]\n",
      "[[6 0]\n",
      " [4 3]\n",
      " [7 1]\n",
      " [1 3]\n",
      " [6 0]]\n"
     ]
    }
   ],
   "source": [
    "#Q16.5: Create a column stack using np.column_stack()\n",
    "array1 = np.random.randint(0,10,5)\n",
    "array2 = np.random.randint(0,10,5)\n",
    "print(array1,array2)\n",
    "col_stacked = np.column_stack([array1,array2])\n",
    "print(col_stacked)\n"
   ]
  },
  {
   "cell_type": "markdown",
   "id": "1f7c9721",
   "metadata": {},
   "source": [
    "Question 17: Array Splitting Operations\n"
   ]
  },
  {
   "cell_type": "code",
   "execution_count": 273,
   "id": "f5464267",
   "metadata": {},
   "outputs": [
    {
     "name": "stdout",
     "output_type": "stream",
     "text": [
      "[array([3, 5], dtype=int32), array([1, 8], dtype=int32), array([0, 9], dtype=int32)]\n",
      "Part 1: [3 5]\n",
      "Part 2: [1 8]\n",
      "Part 3: [0 9]\n"
     ]
    }
   ],
   "source": [
    "#Q17.1: Split an array into 3 equal parts using np.split()\n",
    "array1 = np.random.randint(0,10,6)\n",
    "split_array = np.split(array1, 3)\n",
    "print(split_array)\n",
    "for i, part in enumerate(split_array):\n",
    "    print(f\"Part {i+1}: {part}\")\n"
   ]
  },
  {
   "cell_type": "code",
   "execution_count": 280,
   "id": "bf5f8247",
   "metadata": {},
   "outputs": [
    {
     "name": "stdout",
     "output_type": "stream",
     "text": [
      "[array([1, 2, 3]), array([4, 5]), array([6]), array([7, 8, 9])]\n",
      "Part 1: [1 2 3]\n",
      "Part 2: [4 5]\n",
      "Part 3: [6]\n",
      "Part 4: [7 8 9]\n"
     ]
    }
   ],
   "source": [
    "#Q17.2: Split an array at specific indices using np.split()\n",
    "array1 = np.array([1,2,3,4,5,6,7,8,9])\n",
    "split_indices =np.split(array1,[3,5,6])\n",
    "print(split_indices)\n",
    "for i, part in enumerate(split_indices):\n",
    "    print(f\"Part {i+1}: {part}\")"
   ]
  },
  {
   "cell_type": "code",
   "execution_count": 292,
   "id": "24a08808",
   "metadata": {},
   "outputs": [
    {
     "name": "stdout",
     "output_type": "stream",
     "text": [
      "Part  1 : [1 2]\n",
      "Part  2 : [3 4]\n",
      "Part  3 : [5 6]\n",
      "Part  4 : [7 8]\n"
     ]
    }
   ],
   "source": [
    "#Q17.3: Split an array horizontally using np.hsplit()\n",
    "array1 = np.array([1,2,3,4,5,6,7,8])\n",
    "h_split = np.hsplit(array1,4)\n",
    "for i, part in enumerate(h_split):\n",
    "    print(\"Part \",i+1,\":\",part)"
   ]
  },
  {
   "cell_type": "code",
   "execution_count": 287,
   "id": "45308828",
   "metadata": {},
   "outputs": [
    {
     "name": "stdout",
     "output_type": "stream",
     "text": [
      "Part  1 : [[1 2 3 4]]\n",
      "Part  2 : [[5 6 7 8]]\n"
     ]
    }
   ],
   "source": [
    "#Q17.4: Split an array vertically using np.vsplit()\n",
    "\n",
    "array1 = np.array([[1,2,3,4],[5,6,7,8]])\n",
    "v_split = np.vsplit(array1,2)\n",
    "for i, part in enumerate(v_split):\n",
    "    print(\"Part \",i+1,\":\",part)"
   ]
  },
  {
   "cell_type": "code",
   "execution_count": 290,
   "id": "f3f5634f",
   "metadata": {},
   "outputs": [
    {
     "name": "stdout",
     "output_type": "stream",
     "text": [
      "Part  1 : [1 2]\n",
      "Part  2 : [3 4]\n",
      "Part  3 : [5]\n"
     ]
    }
   ],
   "source": [
    "#Q17.5: Split an array into equal chunks using np.array_split()\n",
    "array1 = np.array([1,2,3,4,5])\n",
    "equal_chunks = np.array_split(array1,3)\n",
    "for i, part in enumerate(equal_chunks):\n",
    "    print(\"Part \",i+1,\":\",part)"
   ]
  },
  {
   "cell_type": "markdown",
   "id": "220d9847",
   "metadata": {},
   "source": [
    "Question 18: Array Repetition and Tiling\n"
   ]
  },
  {
   "cell_type": "code",
   "execution_count": 294,
   "id": "6f31908d",
   "metadata": {},
   "outputs": [
    {
     "name": "stdout",
     "output_type": "stream",
     "text": [
      "[1 1 1 2 2 2 3 3 3 4 4 4 5 5 5 6 6 6]\n"
     ]
    }
   ],
   "source": [
    "#Q18.1: Repeat each element of an array 3 times using np.repeat()\n",
    "array1=np.array([1,2,3,4,5,6])\n",
    "array2=np.repeat(array1,3)\n",
    "print(array2)"
   ]
  },
  {
   "cell_type": "code",
   "execution_count": 295,
   "id": "f7be482b",
   "metadata": {},
   "outputs": [
    {
     "name": "stdout",
     "output_type": "stream",
     "text": [
      "[1 2 3 4 5 6 1 2 3 4 5 6]\n"
     ]
    }
   ],
   "source": [
    "#Q18.2: Repeat an entire array 2 times using np.tile()\n",
    "array1=np.array([1,2,3,4,5,6])\n",
    "array2=np.tile(array1,2)\n",
    "print(array2)\n"
   ]
  },
  {
   "cell_type": "code",
   "execution_count": 302,
   "id": "2fe1fa31",
   "metadata": {},
   "outputs": [
    {
     "name": "stdout",
     "output_type": "stream",
     "text": [
      "[[1 2 3 1 2 3]\n",
      " [4 5 6 4 5 6]\n",
      " [1 2 3 1 2 3]\n",
      " [4 5 6 4 5 6]]\n",
      "[[1 2 3 1 2 3]\n",
      " [4 5 6 4 5 6]]\n"
     ]
    }
   ],
   "source": [
    "#Q18.3: Repeat a 2D array using np.tile()\n",
    "array1=np.array([[1,2,3],[4,5,6]])\n",
    "array2=np.tile(array1,(2,2))\n",
    "print(array2)\n",
    "array2=np.tile(array1,2)\n",
    "print(array2)"
   ]
  },
  {
   "cell_type": "code",
   "execution_count": 303,
   "id": "8b8da776",
   "metadata": {},
   "outputs": [
    {
     "name": "stdout",
     "output_type": "stream",
     "text": [
      "['@' '#' '@' '#' '@' '#' '@' '#' '@' '#']\n"
     ]
    }
   ],
   "source": [
    "#Q18.4: Create a pattern using np.tile()\n",
    "\n",
    "pattern = np.array(['@', '#'])\n",
    "result = np.tile(pattern, 5) \n",
    "print(result)"
   ]
  },
  {
   "cell_type": "code",
   "execution_count": null,
   "id": "9fd1d11c",
   "metadata": {},
   "outputs": [
    {
     "name": "stdout",
     "output_type": "stream",
     "text": [
      "[1 2 2 2 3 3]\n"
     ]
    }
   ],
   "source": [
    "#Q18.5: Repeat elements with different counts using np.repeat()\n",
    "arr = np.array([1, 2, 3])\n",
    "repeats = [1, 3, 2] \n",
    "result = np.repeat(arr, repeats)\n",
    "print(result)"
   ]
  },
  {
   "cell_type": "markdown",
   "id": "1049197f",
   "metadata": {},
   "source": [
    "Question 19: Array Comparison and Logical Operations\n"
   ]
  },
  {
   "cell_type": "code",
   "execution_count": 310,
   "id": "949f0d13",
   "metadata": {},
   "outputs": [
    {
     "name": "stdout",
     "output_type": "stream",
     "text": [
      "False\n"
     ]
    }
   ],
   "source": [
    "#Q19.1: Compare two arrays for equality using np.array_equal()\n",
    "arr1 = np.array([1,2,3,4,5])\n",
    "arr2 = np.array([1,2,3,4])\n",
    "print(np.array_equal(arr1,arr2))"
   ]
  },
  {
   "cell_type": "code",
   "execution_count": 312,
   "id": "1eedf50a",
   "metadata": {},
   "outputs": [
    {
     "name": "stdout",
     "output_type": "stream",
     "text": [
      "True\n"
     ]
    }
   ],
   "source": [
    "#Q19.2: Check if arrays are close using np.allclose()\n",
    "a = np.array([1.0, 2.0, 3.0])    #useful for float values  [ Absolute tolerance (atol),Relative tolerance (rtol)]\n",
    "b = np.array([1.0, 2.000001, 2.999999])\n",
    "result = np.allclose(a, b)\n",
    "print(result)"
   ]
  },
  {
   "cell_type": "code",
   "execution_count": 325,
   "id": "75568384",
   "metadata": {},
   "outputs": [
    {
     "name": "stdout",
     "output_type": "stream",
     "text": [
      "[False False  True]\n"
     ]
    }
   ],
   "source": [
    "##Q19.3: Apply logical AND operation between arrays\n",
    "arr1 = np.array([1,2,3])\n",
    "arr2 = np.array([4,5,9])\n",
    "and_op= np.logical_and(arr1>2,arr2>3)\n",
    "print(and_op)"
   ]
  },
  {
   "cell_type": "code",
   "execution_count": null,
   "id": "dd47cfa8",
   "metadata": {},
   "outputs": [
    {
     "name": "stdout",
     "output_type": "stream",
     "text": [
      "[False False  True]\n"
     ]
    }
   ],
   "source": [
    "#Q19.4: Apply logical OR operation between arrays\n",
    "arr1 = np.array([1,2,3])\n",
    "arr2 = np.array([4,5,9])\n",
    "or_op= np.logical_or(arr1>2,arr2>8)\n",
    "print(or_op)"
   ]
  },
  {
   "cell_type": "code",
   "execution_count": 332,
   "id": "286043ae",
   "metadata": {},
   "outputs": [
    {
     "name": "stdout",
     "output_type": "stream",
     "text": [
      "[False False False]\n",
      "[ True False  True]\n"
     ]
    }
   ],
   "source": [
    "#Q19.5: Apply logical NOT operation to an array\n",
    "arr1 = np.array([1,2,3])\n",
    "not_op = np.logical_not(arr1)\n",
    "print(not_op)\n",
    "not_op = np.logical_not(arr1 == 2)\n",
    "print(not_op)"
   ]
  },
  {
   "cell_type": "markdown",
   "id": "4e5fccd4",
   "metadata": {},
   "source": [
    "Question 20: Array Set Operations\n"
   ]
  },
  {
   "cell_type": "code",
   "execution_count": 334,
   "id": "13b8294c",
   "metadata": {},
   "outputs": [
    {
     "name": "stdout",
     "output_type": "stream",
     "text": [
      "[0 1 2 3 4 5 6 8 9]\n"
     ]
    }
   ],
   "source": [
    "#Q20.1: Find unique elements in an array using np.unique()\n",
    "arr1 = np.array([1,3,9,4,6,2,4,5,6,9,8,2,1,0,5])\n",
    "unique = np.unique(arr1)\n",
    "print(unique)"
   ]
  },
  {
   "cell_type": "code",
   "execution_count": null,
   "id": "fb365238",
   "metadata": {},
   "outputs": [
    {
     "name": "stdout",
     "output_type": "stream",
     "text": [
      "[7 9 1 6 4 3] [5 4 4 8 2 9 1]\n",
      "[1 4 9]\n"
     ]
    }
   ],
   "source": [
    "#Q20.2: Find the intersection of two arrays using np.intersect1d()\n",
    "a = np.random.randint(1,10,6)\n",
    "b = np.random.randint(1,10,7)\n",
    "print(a,b)\n",
    "print(np.intersect1d(a,b))"
   ]
  },
  {
   "cell_type": "code",
   "execution_count": 339,
   "id": "f10abfd2",
   "metadata": {},
   "outputs": [
    {
     "name": "stdout",
     "output_type": "stream",
     "text": [
      "[5 8 9 5 1 8] [7 4 5 2 2 8 3]\n",
      "[1 2 3 4 5 7 8 9]\n"
     ]
    }
   ],
   "source": [
    "#Q20.3: Find the union of two arrays using np.union1d()\n",
    "a = np.random.randint(1,10,6)\n",
    "b = np.random.randint(1,10 ,7)\n",
    "print(a,b)\n",
    "print(np.union1d(a,b))"
   ]
  },
  {
   "cell_type": "code",
   "execution_count": null,
   "id": "fa4877e6",
   "metadata": {},
   "outputs": [
    {
     "name": "stdout",
     "output_type": "stream",
     "text": [
      "[2 1 7 1 5 7] [5 6 4 5 7 3 6]\n",
      "[1 2]\n"
     ]
    }
   ],
   "source": [
    "#Q20.4: Find elements in first array but not in second using np.setdiff1d()\n",
    "a = np.random.randint(1,10,6)\n",
    "b = np.random.randint(1,10,7)\n",
    "print(a,b)\n",
    "print(np.setdiff1d(a,b))"
   ]
  },
  {
   "cell_type": "code",
   "execution_count": 342,
   "id": "48dadd54",
   "metadata": {},
   "outputs": [
    {
     "name": "stdout",
     "output_type": "stream",
     "text": [
      "[3 5 4 3 5 9 1 7] [9 9 6 7 6 7 1]\n",
      "[3 4 5 6]\n"
     ]
    }
   ],
   "source": [
    "#Q20.5: Find the symmetric difference between two arrays using np.setxor1d()\n",
    "a = np.random.randint(1,10,8)\n",
    "b = np.random.randint(1,10,7)\n",
    "print(a,b)\n",
    "print(np.setxor1d(a,b))"
   ]
  }
 ],
 "metadata": {
  "kernelspec": {
   "display_name": "Python 3",
   "language": "python",
   "name": "python3"
  },
  "language_info": {
   "codemirror_mode": {
    "name": "ipython",
    "version": 3
   },
   "file_extension": ".py",
   "mimetype": "text/x-python",
   "name": "python",
   "nbconvert_exporter": "python",
   "pygments_lexer": "ipython3",
   "version": "3.13.5"
  }
 },
 "nbformat": 4,
 "nbformat_minor": 5
}
