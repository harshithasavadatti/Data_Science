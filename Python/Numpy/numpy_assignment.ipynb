{
 "cells": [
  {
   "cell_type": "code",
   "execution_count": 2,
   "id": "43cca557",
   "metadata": {},
   "outputs": [
    {
     "name": "stdout",
     "output_type": "stream",
     "text": [
      "Collecting numpy\n",
      "  Downloading numpy-2.3.2-cp313-cp313-win_amd64.whl.metadata (60 kB)\n",
      "Downloading numpy-2.3.2-cp313-cp313-win_amd64.whl (12.8 MB)\n",
      "   ---------------------------------------- 0.0/12.8 MB ? eta -:--:--\n",
      "   ----------- ---------------------------- 3.7/12.8 MB 20.4 MB/s eta 0:00:01\n",
      "   ------------------ --------------------- 6.0/12.8 MB 13.3 MB/s eta 0:00:01\n",
      "   --------------------------- ------------ 8.9/12.8 MB 13.7 MB/s eta 0:00:01\n",
      "   ------------------------------------ --- 11.8/12.8 MB 13.5 MB/s eta 0:00:01\n",
      "   ---------------------------------------- 12.8/12.8 MB 12.7 MB/s eta 0:00:00\n",
      "Installing collected packages: numpy\n",
      "Successfully installed numpy-2.3.2\n",
      "Note: you may need to restart the kernel to use updated packages.\n"
     ]
    },
    {
     "name": "stderr",
     "output_type": "stream",
     "text": [
      "\n",
      "[notice] A new release of pip is available: 25.1.1 -> 25.2\n",
      "[notice] To update, run: python.exe -m pip install --upgrade pip\n"
     ]
    }
   ],
   "source": [
    "pip install numpy\n"
   ]
  },
  {
   "cell_type": "code",
   "execution_count": 3,
   "id": "523510ff",
   "metadata": {},
   "outputs": [
    {
     "name": "stdout",
     "output_type": "stream",
     "text": [
      "[[    1 25000   300  1200    10]\n",
      " [    2 32000   450  1500    15]\n",
      " [    3 28000   380  1100     8]\n",
      " [    4 41000   500  1600    20]\n",
      " [    5 35000   420  1400    12]\n",
      " [    6 27000   360  1300     9]\n",
      " [    7 39000   480  1700    18]\n",
      " [    8 30000   400  1250    14]\n",
      " [    9 45000   550  1800    25]\n",
      " [   10 33000   410  1450    11]]\n"
     ]
    }
   ],
   "source": [
    "import numpy as np\n",
    "\n",
    "# Manually created array: [Store ID, Sales, Customers, Inventory, Returns]\n",
    "retail_data = np.array([\n",
    "    [1, 25000, 300, 1200, 10],\n",
    "    [2, 32000, 450, 1500, 15],\n",
    "    [3, 28000, 380, 1100, 8],\n",
    "    [4, 41000, 500, 1600, 20],\n",
    "    [5, 35000, 420, 1400, 12],\n",
    "    [6, 27000, 360, 1300, 9],\n",
    "    [7, 39000, 480, 1700, 18],\n",
    "    [8, 30000, 400, 1250, 14],\n",
    "    [9, 45000, 550, 1800, 25],\n",
    "    [10, 33000, 410, 1450, 11]\n",
    "])\n",
    "\n",
    "print(retail_data)\n"
   ]
  },
  {
   "cell_type": "code",
   "execution_count": 5,
   "id": "ab4deb8c",
   "metadata": {},
   "outputs": [
    {
     "name": "stdout",
     "output_type": "stream",
     "text": [
      "Total Revenue : 335000\n"
     ]
    }
   ],
   "source": [
    "## Basic Performance Analysis\n",
    "#1. What is the **total revenue** generated across all stores?\n",
    "revenue_total = np.sum(retail_data[:,1])\n",
    "print(f\"Total Revenue : {revenue_total}\")"
   ]
  },
  {
   "cell_type": "code",
   "execution_count": 14,
   "id": "ea45532a",
   "metadata": {},
   "outputs": [
    {
     "name": "stdout",
     "output_type": "stream",
     "text": [
      "Store which recorded highest sale: 9\n"
     ]
    }
   ],
   "source": [
    "#2. Which store recorded the **highest sales**?\n",
    "highest_sale = np.argmax(retail_data[:,1])+1\n",
    "print(f\"Store which recorded highest sale: {highest_sale}\")"
   ]
  },
  {
   "cell_type": "code",
   "execution_count": 9,
   "id": "9dcba0d9",
   "metadata": {},
   "outputs": [
    {
     "name": "stdout",
     "output_type": "stream",
     "text": [
      "Store which recorded lowest sale: 1\n"
     ]
    }
   ],
   "source": [
    "#3. Which store recorded the **lowest sales**?\n",
    "lowest_sale = np.argmin(retail_data[:,1])+1\n",
    "print(f\"Store which recorded lowest sale: {lowest_sale}\")"
   ]
  },
  {
   "cell_type": "code",
   "execution_count": 11,
   "id": "a21ac3f2",
   "metadata": {},
   "outputs": [
    {
     "name": "stdout",
     "output_type": "stream",
     "text": [
      "Daily average sales: 33500.0\n"
     ]
    }
   ],
   "source": [
    "#4. What is the **average daily sales** per store?\n",
    "average_sale = np.mean(retail_data[:,1])\n",
    "print(f\"Daily average sales: {average_sale}\")"
   ]
  },
  {
   "cell_type": "code",
   "execution_count": null,
   "id": "9ca580c5",
   "metadata": {},
   "outputs": [
    {
     "name": "stdout",
     "output_type": "stream",
     "text": [
      "3\n"
     ]
    }
   ],
   "source": [
    "#5. How many stores achieved sales **above ₹35,000**?\n",
    "stores_above_35000 = np.sum(retail_data[:, 1] > 35000) #return boolean values(caz of comparisons) which are added\n",
    "print(stores_above_35000)"
   ]
  },
  {
   "cell_type": "code",
   "execution_count": 15,
   "id": "1cdb594d",
   "metadata": {},
   "outputs": [
    {
     "name": "stdout",
     "output_type": "stream",
     "text": [
      "9\n"
     ]
    }
   ],
   "source": [
    "## Customer Insights\n",
    "#6. Which store had the **highest customer footfall**?\n",
    "highest_customer_footfall = np. argmax(retail_data[:,2])+1\n",
    "print(highest_customer_footfall)"
   ]
  },
  {
   "cell_type": "code",
   "execution_count": 18,
   "id": "7678ab11",
   "metadata": {},
   "outputs": [
    {
     "name": "stdout",
     "output_type": "stream",
     "text": [
      "425.0\n"
     ]
    }
   ],
   "source": [
    "#7. What is the **average number of customers** per store?\n",
    "avg_customers = np.mean(retail_data[:,2])\n",
    "print(avg_customers)"
   ]
  },
  {
   "cell_type": "code",
   "execution_count": 19,
   "id": "ebdc7315",
   "metadata": {},
   "outputs": [
    {
     "name": "stdout",
     "output_type": "stream",
     "text": [
      "3\n"
     ]
    }
   ],
   "source": [
    "#8. How many stores have **more than 450 customers**?\n",
    "customers_above_450 = np.sum(retail_data[:,2] > 450)\n",
    "print(customers_above_450)"
   ]
  },
  {
   "cell_type": "code",
   "execution_count": 21,
   "id": "6a1d8c4e",
   "metadata": {},
   "outputs": [
    {
     "name": "stdout",
     "output_type": "stream",
     "text": [
      "1\n"
     ]
    }
   ],
   "source": [
    "#9. Which store has the **lowest customer count**?\n",
    "lowest_customer_count = np.argmin(retail_data[:,2])+1\n",
    "print(lowest_customer_count)"
   ]
  },
  {
   "cell_type": "code",
   "execution_count": 24,
   "id": "d7fb31e7",
   "metadata": {},
   "outputs": [
    {
     "name": "stdout",
     "output_type": "stream",
     "text": [
      "[[    5 35000   420  1400    12]]\n"
     ]
    }
   ],
   "source": [
    "#10. Is there any store where **high sales do not correspond to high customers**?\n",
    "high_sales_low_customers = retail_data[(retail_data[:, 1] > average_sale) & (retail_data[:, 2] < avg_customers)]\n",
    "print(high_sales_low_customers)"
   ]
  },
  {
   "cell_type": "code",
   "execution_count": null,
   "id": "051726e7",
   "metadata": {},
   "outputs": [
    {
     "name": "stdout",
     "output_type": "stream",
     "text": [
      "14300\n"
     ]
    }
   ],
   "source": [
    "## Inventory & Returns Analysis\n",
    "#11. What is the **total inventory** across all stores?\n",
    "total_inventory = np.sum(retail_data[:,3])\n",
    "print(total_inventory)"
   ]
  },
  {
   "cell_type": "code",
   "execution_count": null,
   "id": "b4344754",
   "metadata": {},
   "outputs": [
    {
     "name": "stdout",
     "output_type": "stream",
     "text": [
      "9\n"
     ]
    }
   ],
   "source": [
    "#12. Which store has the **highest inventory stock**?\n",
    "highest_inventory_stock_store = np.argmax(retail_data[:,3])+1\n",
    "print(highest_inventory_stock_store)\n"
   ]
  },
  {
   "cell_type": "code",
   "execution_count": 27,
   "id": "e9f9483a",
   "metadata": {},
   "outputs": [
    {
     "name": "stdout",
     "output_type": "stream",
     "text": [
      "3\n"
     ]
    }
   ],
   "source": [
    "#13. How many stores have **inventory less than 1300 units**?\n",
    "inventory_less_than_1300 = np.sum(retail_data[:,3] < 1300)\n",
    "print(inventory_less_than_1300)"
   ]
  },
  {
   "cell_type": "code",
   "execution_count": 30,
   "id": "dde27aa4",
   "metadata": {},
   "outputs": [
    {
     "name": "stdout",
     "output_type": "stream",
     "text": [
      "Store with highest return rate: 9\n"
     ]
    }
   ],
   "source": [
    "#14. Which store has the **highest return rate** (returns ÷ inventory)?\n",
    "returns = retail_data[:,4]\n",
    "inventory = retail_data[:,3]\n",
    "return_rate = returns / inventory\n",
    "highest_return_rate = np.argmax(return_rate)+1\n",
    "print(f\"Store with highest return rate: {highest_return_rate}\")"
   ]
  },
  {
   "cell_type": "code",
   "execution_count": null,
   "id": "844cbaf0",
   "metadata": {},
   "outputs": [
    {
     "name": "stdout",
     "output_type": "stream",
     "text": [
      "3\n",
      "[4 7 9]\n"
     ]
    }
   ],
   "source": [
    "#15. Which stores have **returns greater than 15 units**?\n",
    "return_greater_than_15 = np.sum(retail_data[:,4] > 15)\n",
    "print(return_greater_than_15)\n",
    "\n",
    "return_greater_than_15 =retail_data[retail_data[:, 4] > 15, 0]\n",
    "print(return_greater_than_15)"
   ]
  },
  {
   "cell_type": "code",
   "execution_count": 43,
   "id": "31c0a21e",
   "metadata": {},
   "outputs": [
    {
     "name": "stdout",
     "output_type": "stream",
     "text": [
      "0.9593636912502479\n",
      "Is there positive correlation: True\n"
     ]
    }
   ],
   "source": [
    "## Sales & Customer Correlation\n",
    "#16. Is there a **positive correlation** between sales and customers?\n",
    "sales = retail_data[:,1]\n",
    "customers = retail_data[:,2]\n",
    "correlation = np.corrcoef(sales, customers)[1,0]\n",
    "positive_corr = correlation > 0\n",
    "print(correlation)\n",
    "print(f\"Is there positive correlation: {positive_corr}\")"
   ]
  },
  {
   "cell_type": "code",
   "execution_count": null,
   "id": "7d9e80a7",
   "metadata": {},
   "outputs": [
    {
     "name": "stdout",
     "output_type": "stream",
     "text": [
      "[[    2 32000   450  1500    15]]\n"
     ]
    }
   ],
   "source": [
    "#17. Which store has **high customer visits but low sales**?\n",
    "high_customer_low_sales = retail_data[(retail_data[:,1] < average_sale) & (retail_data[:,2] > avg_customers)]\n",
    "print(high_customer_low_sales)"
   ]
  },
  {
   "cell_type": "code",
   "execution_count": 47,
   "id": "0dda3fb2",
   "metadata": {},
   "outputs": [
    {
     "name": "stdout",
     "output_type": "stream",
     "text": [
      "[[    5 35000   420  1400    12]]\n"
     ]
    }
   ],
   "source": [
    "#18. Which store has **low customers but high sales**?\n",
    "low_customer_high_sales = retail_data[(retail_data[:,1] > average_sale) & (retail_data[:,2] < avg_customers)]\n",
    "print(low_customer_high_sales)"
   ]
  },
  {
   "cell_type": "code",
   "execution_count": 56,
   "id": "03826b35",
   "metadata": {},
   "outputs": [
    {
     "name": "stdout",
     "output_type": "stream",
     "text": [
      "[]\n"
     ]
    }
   ],
   "source": [
    "#19. How many stores have **sales per customer above ₹90**?\n",
    "sales_per_customer = retail_data[:,1] / retail_data[:,2]\n",
    "store_above_90 = retail_data[sales_per_customer > 90]\n",
    "print(store_above_90)"
   ]
  },
  {
   "cell_type": "code",
   "execution_count": 53,
   "id": "92eb1865",
   "metadata": {},
   "outputs": [
    {
     "name": "stdout",
     "output_type": "stream",
     "text": [
      "[[   10 33000   410  1450    11]]\n"
     ]
    }
   ],
   "source": [
    "#20. Which stores could **benefit from customer acquisition campaigns** (low customers, high inventory)?\n",
    "avg_customers = np.mean(retail_data[:,2])\n",
    "avg_inventory = np.mean(retail_data[:,3])\n",
    "low_customer_high_inventory = retail_data[(retail_data[:,2] < avg_customers) & (retail_data[:,3] > avg_inventory)]\n",
    "print(low_customer_high_inventory)"
   ]
  },
  {
   "cell_type": "code",
   "execution_count": 57,
   "id": "f21aace7",
   "metadata": {},
   "outputs": [
    {
     "name": "stdout",
     "output_type": "stream",
     "text": [
      "[5000. 6400. 5600. 8200. 7000. 5400. 7800. 6000. 9000. 6600.]\n"
     ]
    }
   ],
   "source": [
    "## Profitability & Growth\n",
    "#21. If profit margin is **20% of sales**, what is the **profit per store**?\n",
    "profit_per_store = retail_data[:,1] * 0.20\n",
    "print(profit_per_store)"
   ]
  },
  {
   "cell_type": "code",
   "execution_count": 76,
   "id": "8170c424",
   "metadata": {},
   "outputs": [
    {
     "name": "stdout",
     "output_type": "stream",
     "text": [
      "Store is 9 with highest profit :  [    9 45000   550  1800    25]\n"
     ]
    }
   ],
   "source": [
    "#22. Which store has the **highest profit**?\n",
    "highest = np.argmax(profit_per_store)\n",
    "highest_profit = retail_data[highest]\n",
    "print(f\"Store is {highest+1} with highest profit :  {highest_profit}\")"
   ]
  },
  {
   "cell_type": "code",
   "execution_count": 75,
   "id": "49e9b9ff",
   "metadata": {},
   "outputs": [
    {
     "name": "stdout",
     "output_type": "stream",
     "text": [
      "Store is 1 with lowest profit :  [    1 25000   300  1200    10]\n"
     ]
    }
   ],
   "source": [
    "#23. Which store has the **lowest profit**?\n",
    "lowest = np.argmin(profit_per_store)\n",
    "lowest_profit = retail_data[lowest]\n",
    "print(f\"Store is {lowest+1} with lowest profit :  {lowest_profit}\")"
   ]
  },
  {
   "cell_type": "code",
   "execution_count": 70,
   "id": "b2dbc723",
   "metadata": {},
   "outputs": [
    {
     "name": "stdout",
     "output_type": "stream",
     "text": [
      "New sale figures :  [27500. 35200. 30800. 45100. 38500. 29700. 42900. 33000. 49500. 36300.]\n"
     ]
    }
   ],
   "source": [
    "#24. If sales increase by **10% next month**, what are the **new sales figures**?\n",
    "new_sale_figures = retail_data[:,1] * 1.10  #to calculate new increased amount = 1+ increase precentage / 100 \n",
    "print(\"New sale figures : \",new_sale_figures)  # if its 20% ,then its 1.20"
   ]
  },
  {
   "cell_type": "code",
   "execution_count": 74,
   "id": "0cd05f00",
   "metadata": {},
   "outputs": [
    {
     "name": "stdout",
     "output_type": "stream",
     "text": [
      "67000.0\n",
      "73700.0\n",
      "6700.0\n"
     ]
    }
   ],
   "source": [
    "#Profit per store = sales * profit_margin  (retail_data[:,1] *0.20)\n",
    "#Profit margin = 20% → 0.20 in decimal form\n",
    "# New sales after 10% increase = new_sale_figures  (retail_data[:,1] *1.10)\n",
    "# New profit after increase = new_sale_figures * 0.20   \n",
    "#25. How will **total profit** change with the 10% sales increase?\n",
    "old_total_profit = np.sum(profit_per_store)\n",
    "new_total_profit = np.sum(new_sale_figures * 0.20)\n",
    "profit_change = new_total_profit - old_total_profit\n",
    "print(old_total_profit)\n",
    "print(new_total_profit)\n",
    "print(profit_change)\n"
   ]
  },
  {
   "cell_type": "code",
   "execution_count": null,
   "id": "3bd0e180",
   "metadata": {},
   "outputs": [
    {
     "name": "stdout",
     "output_type": "stream",
     "text": [
      "Stores that need restocking :\n",
      " [[    5 35000   420  1400    12]]\n"
     ]
    }
   ],
   "source": [
    "## Operational Strategy\n",
    "#26. Which stores need **inventory restocking** based on sales and current stock?\n",
    "# means sales > avg_sale and inventory < average_inventory\n",
    "avg_inventory = np.mean(retail_data[:, 3])\n",
    "avg_sales = np.mean(retail_data[:, 1])\n",
    "restock_needed = retail_data[(retail_data[:, 3] < avg_inventory) & (retail_data[:, 1] > avg_sales)]\n",
    "print(\"Stores that need restocking :\\n\",restock_needed)\n"
   ]
  },
  {
   "cell_type": "code",
   "execution_count": 85,
   "id": "8c8c812e",
   "metadata": {},
   "outputs": [
    {
     "name": "stdout",
     "output_type": "stream",
     "text": [
      "Stores which show high return percentages that might requrie quality checks :\n",
      " [[    2 32000   450  1500    15]\n",
      " [    4 41000   500  1600    20]\n",
      " [    7 39000   480  1700    18]\n",
      " [    8 30000   400  1250    14]\n",
      " [    9 45000   550  1800    25]]\n"
     ]
    }
   ],
   "source": [
    "#27. Which stores show **high returns percentage** and might require **quality checks**?\n",
    "#return_percentages = returns /sales * 100\n",
    "#calculate avg_return_percentage using np.mean(return_percentages)\n",
    "#extract return_percentages > avg_return_percentage\n",
    "\n",
    "sales = retail_data[:,1]\n",
    "returns = retail_data[:,4]\n",
    "return_percentages = returns / sales * 100\n",
    "avg_return_percentage = np.mean(return_percentages)\n",
    "high_return_percentage = retail_data[return_percentages > avg_return_percentage]\n",
    "print(\"Stores which show high return percentages that might requrie quality checks :\\n\", high_return_percentage)\n"
   ]
  },
  {
   "cell_type": "code",
   "execution_count": 86,
   "id": "16d0d537",
   "metadata": {},
   "outputs": [
    {
     "name": "stdout",
     "output_type": "stream",
     "text": [
      "Best performer overall is Store: 9\n"
     ]
    }
   ],
   "source": [
    "#28. Which store is the **best performer overall** (sales, customers, inventory turnover)?\n",
    "# Extract relevant columns\n",
    "sales = retail_data[:, 1]\n",
    "customers = retail_data[:, 2]\n",
    "inventory = retail_data[:, 3]\n",
    "\n",
    "# Calculate inventory turnover\n",
    "inventory_turnover = sales / inventory  #High turnover means a store sells stock quickly \n",
    "\n",
    "# Normalize each metric (0–1 scale)  # Xnorm = x - min(x)  / max(x) - min(x)\n",
    "sales_norm = (sales - sales.min()) / (sales.max() - sales.min())\n",
    "customers_norm = (customers - customers.min()) / (customers.max() - customers.min())\n",
    "turnover_norm = (inventory_turnover - inventory_turnover.min()) / (inventory_turnover.max() - inventory_turnover.min())\n",
    "\n",
    "# Weighted score (equal weight for simplicity)\n",
    "overall_score = sales_norm + customers_norm + turnover_norm\n",
    "\n",
    "# Find best performer\n",
    "best_index = np.argmax(overall_score)+1\n",
    "\n",
    "print(f\"Best performer overall is Store: {best_index}\")\n"
   ]
  },
  {
   "cell_type": "code",
   "execution_count": 87,
   "id": "85bf4105",
   "metadata": {},
   "outputs": [
    {
     "name": "stdout",
     "output_type": "stream",
     "text": [
      "Worst performer overall is Store: 1\n"
     ]
    }
   ],
   "source": [
    "#29. Which store is the **worst performer overall**?\n",
    "worst_performer = np.argmin(overall_score)+1\n",
    "print(f\"Worst performer overall is Store: {worst_performer}\")\n"
   ]
  },
  {
   "cell_type": "code",
   "execution_count": 89,
   "id": "d6eeacca",
   "metadata": {},
   "outputs": [
    {
     "name": "stdout",
     "output_type": "stream",
     "text": [
      "Expansion candidates:\n",
      " [[    4 41000   500  1600    20]\n",
      " [    7 39000   480  1700    18]\n",
      " [    9 45000   550  1800    25]]\n"
     ]
    }
   ],
   "source": [
    "#30. Which stores can be considered for **expansion** based on strong sales and customer metrics?\n",
    "# Sales > average sales\n",
    "# Customers > average customers\n",
    "avg_sales = np.mean(retail_data[:, 1])\n",
    "avg_customers = np.mean(retail_data[:, 2])\n",
    "\n",
    "expansion_candidates = retail_data[(retail_data[:, 1] > avg_sales) & (retail_data[:, 2] > avg_customers)]\n",
    "print(\"Expansion candidates:\\n\", expansion_candidates)\n"
   ]
  }
 ],
 "metadata": {
  "kernelspec": {
   "display_name": "Python 3",
   "language": "python",
   "name": "python3"
  },
  "language_info": {
   "codemirror_mode": {
    "name": "ipython",
    "version": 3
   },
   "file_extension": ".py",
   "mimetype": "text/x-python",
   "name": "python",
   "nbconvert_exporter": "python",
   "pygments_lexer": "ipython3",
   "version": "3.13.5"
  }
 },
 "nbformat": 4,
 "nbformat_minor": 5
}
